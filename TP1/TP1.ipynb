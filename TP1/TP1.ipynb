{
 "cells": [
  {
   "cell_type": "markdown",
   "metadata": {},
   "source": [
    "# TP1 Louis Hémadou"
   ]
  },
  {
   "cell_type": "markdown",
   "metadata": {
    "colab_type": "text",
    "id": "ScLL5BZ-dgyn"
   },
   "source": [
    "# Get Data and load packages"
   ]
  },
  {
   "cell_type": "code",
   "execution_count": 1,
   "metadata": {
    "colab": {},
    "colab_type": "code",
    "id": "rwvrTFnb-gIq"
   },
   "outputs": [],
   "source": [
    "import pandas as pd\n",
    "import numpy as np\n",
    "#from google.colab import files"
   ]
  },
  {
   "cell_type": "code",
   "execution_count": 2,
   "metadata": {
    "colab": {
     "base_uri": "https://localhost:8080/",
     "height": 123,
     "resources": {
      "http://localhost:8080/nbextensions/google.colab/files.js": {
       "data": "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",
       "headers": [
        [
         "content-type",
         "application/javascript"
        ]
       ],
       "ok": true,
       "status": 200,
       "status_text": "OK"
      }
     }
    },
    "colab_type": "code",
    "id": "l0-ABLKVUbww",
    "outputId": "f0dfc5e1-8d9c-4f7d-960a-2f58e896ce69"
   },
   "outputs": [],
   "source": [
    "#files.upload()"
   ]
  },
  {
   "cell_type": "code",
   "execution_count": 3,
   "metadata": {
    "colab": {},
    "colab_type": "code",
    "id": "AJz_76-EUgJX"
   },
   "outputs": [],
   "source": [
    "data = pd.read_csv('./housedata/data.csv')"
   ]
  },
  {
   "cell_type": "code",
   "execution_count": 4,
   "metadata": {
    "colab": {
     "base_uri": "https://localhost:8080/",
     "height": 424
    },
    "colab_type": "code",
    "id": "d8uCqLYIYphA",
    "outputId": "68bbb062-5520-45de-e62c-2595e227da3a",
    "scrolled": true
   },
   "outputs": [
    {
     "data": {
      "text/html": [
       "<div>\n",
       "<style scoped>\n",
       "    .dataframe tbody tr th:only-of-type {\n",
       "        vertical-align: middle;\n",
       "    }\n",
       "\n",
       "    .dataframe tbody tr th {\n",
       "        vertical-align: top;\n",
       "    }\n",
       "\n",
       "    .dataframe thead th {\n",
       "        text-align: right;\n",
       "    }\n",
       "</style>\n",
       "<table border=\"1\" class=\"dataframe\">\n",
       "  <thead>\n",
       "    <tr style=\"text-align: right;\">\n",
       "      <th></th>\n",
       "      <th>date</th>\n",
       "      <th>price</th>\n",
       "      <th>bedrooms</th>\n",
       "      <th>bathrooms</th>\n",
       "      <th>sqft_living</th>\n",
       "      <th>sqft_lot</th>\n",
       "      <th>floors</th>\n",
       "      <th>waterfront</th>\n",
       "      <th>view</th>\n",
       "      <th>condition</th>\n",
       "      <th>sqft_above</th>\n",
       "      <th>sqft_basement</th>\n",
       "      <th>yr_built</th>\n",
       "      <th>yr_renovated</th>\n",
       "      <th>street</th>\n",
       "      <th>city</th>\n",
       "      <th>statezip</th>\n",
       "      <th>country</th>\n",
       "    </tr>\n",
       "  </thead>\n",
       "  <tbody>\n",
       "    <tr>\n",
       "      <th>0</th>\n",
       "      <td>2014-05-02 00:00:00</td>\n",
       "      <td>3.130000e+05</td>\n",
       "      <td>3.0</td>\n",
       "      <td>1.50</td>\n",
       "      <td>1340</td>\n",
       "      <td>7912</td>\n",
       "      <td>1.5</td>\n",
       "      <td>0</td>\n",
       "      <td>0</td>\n",
       "      <td>3</td>\n",
       "      <td>1340</td>\n",
       "      <td>0</td>\n",
       "      <td>1955</td>\n",
       "      <td>2005</td>\n",
       "      <td>18810 Densmore Ave N</td>\n",
       "      <td>Shoreline</td>\n",
       "      <td>WA 98133</td>\n",
       "      <td>USA</td>\n",
       "    </tr>\n",
       "    <tr>\n",
       "      <th>1</th>\n",
       "      <td>2014-05-02 00:00:00</td>\n",
       "      <td>2.384000e+06</td>\n",
       "      <td>5.0</td>\n",
       "      <td>2.50</td>\n",
       "      <td>3650</td>\n",
       "      <td>9050</td>\n",
       "      <td>2.0</td>\n",
       "      <td>0</td>\n",
       "      <td>4</td>\n",
       "      <td>5</td>\n",
       "      <td>3370</td>\n",
       "      <td>280</td>\n",
       "      <td>1921</td>\n",
       "      <td>0</td>\n",
       "      <td>709 W Blaine St</td>\n",
       "      <td>Seattle</td>\n",
       "      <td>WA 98119</td>\n",
       "      <td>USA</td>\n",
       "    </tr>\n",
       "    <tr>\n",
       "      <th>2</th>\n",
       "      <td>2014-05-02 00:00:00</td>\n",
       "      <td>3.420000e+05</td>\n",
       "      <td>3.0</td>\n",
       "      <td>2.00</td>\n",
       "      <td>1930</td>\n",
       "      <td>11947</td>\n",
       "      <td>1.0</td>\n",
       "      <td>0</td>\n",
       "      <td>0</td>\n",
       "      <td>4</td>\n",
       "      <td>1930</td>\n",
       "      <td>0</td>\n",
       "      <td>1966</td>\n",
       "      <td>0</td>\n",
       "      <td>26206-26214 143rd Ave SE</td>\n",
       "      <td>Kent</td>\n",
       "      <td>WA 98042</td>\n",
       "      <td>USA</td>\n",
       "    </tr>\n",
       "    <tr>\n",
       "      <th>3</th>\n",
       "      <td>2014-05-02 00:00:00</td>\n",
       "      <td>4.200000e+05</td>\n",
       "      <td>3.0</td>\n",
       "      <td>2.25</td>\n",
       "      <td>2000</td>\n",
       "      <td>8030</td>\n",
       "      <td>1.0</td>\n",
       "      <td>0</td>\n",
       "      <td>0</td>\n",
       "      <td>4</td>\n",
       "      <td>1000</td>\n",
       "      <td>1000</td>\n",
       "      <td>1963</td>\n",
       "      <td>0</td>\n",
       "      <td>857 170th Pl NE</td>\n",
       "      <td>Bellevue</td>\n",
       "      <td>WA 98008</td>\n",
       "      <td>USA</td>\n",
       "    </tr>\n",
       "    <tr>\n",
       "      <th>4</th>\n",
       "      <td>2014-05-02 00:00:00</td>\n",
       "      <td>5.500000e+05</td>\n",
       "      <td>4.0</td>\n",
       "      <td>2.50</td>\n",
       "      <td>1940</td>\n",
       "      <td>10500</td>\n",
       "      <td>1.0</td>\n",
       "      <td>0</td>\n",
       "      <td>0</td>\n",
       "      <td>4</td>\n",
       "      <td>1140</td>\n",
       "      <td>800</td>\n",
       "      <td>1976</td>\n",
       "      <td>1992</td>\n",
       "      <td>9105 170th Ave NE</td>\n",
       "      <td>Redmond</td>\n",
       "      <td>WA 98052</td>\n",
       "      <td>USA</td>\n",
       "    </tr>\n",
       "    <tr>\n",
       "      <th>...</th>\n",
       "      <td>...</td>\n",
       "      <td>...</td>\n",
       "      <td>...</td>\n",
       "      <td>...</td>\n",
       "      <td>...</td>\n",
       "      <td>...</td>\n",
       "      <td>...</td>\n",
       "      <td>...</td>\n",
       "      <td>...</td>\n",
       "      <td>...</td>\n",
       "      <td>...</td>\n",
       "      <td>...</td>\n",
       "      <td>...</td>\n",
       "      <td>...</td>\n",
       "      <td>...</td>\n",
       "      <td>...</td>\n",
       "      <td>...</td>\n",
       "      <td>...</td>\n",
       "    </tr>\n",
       "    <tr>\n",
       "      <th>4595</th>\n",
       "      <td>2014-07-09 00:00:00</td>\n",
       "      <td>3.081667e+05</td>\n",
       "      <td>3.0</td>\n",
       "      <td>1.75</td>\n",
       "      <td>1510</td>\n",
       "      <td>6360</td>\n",
       "      <td>1.0</td>\n",
       "      <td>0</td>\n",
       "      <td>0</td>\n",
       "      <td>4</td>\n",
       "      <td>1510</td>\n",
       "      <td>0</td>\n",
       "      <td>1954</td>\n",
       "      <td>1979</td>\n",
       "      <td>501 N 143rd St</td>\n",
       "      <td>Seattle</td>\n",
       "      <td>WA 98133</td>\n",
       "      <td>USA</td>\n",
       "    </tr>\n",
       "    <tr>\n",
       "      <th>4596</th>\n",
       "      <td>2014-07-09 00:00:00</td>\n",
       "      <td>5.343333e+05</td>\n",
       "      <td>3.0</td>\n",
       "      <td>2.50</td>\n",
       "      <td>1460</td>\n",
       "      <td>7573</td>\n",
       "      <td>2.0</td>\n",
       "      <td>0</td>\n",
       "      <td>0</td>\n",
       "      <td>3</td>\n",
       "      <td>1460</td>\n",
       "      <td>0</td>\n",
       "      <td>1983</td>\n",
       "      <td>2009</td>\n",
       "      <td>14855 SE 10th Pl</td>\n",
       "      <td>Bellevue</td>\n",
       "      <td>WA 98007</td>\n",
       "      <td>USA</td>\n",
       "    </tr>\n",
       "    <tr>\n",
       "      <th>4597</th>\n",
       "      <td>2014-07-09 00:00:00</td>\n",
       "      <td>4.169042e+05</td>\n",
       "      <td>3.0</td>\n",
       "      <td>2.50</td>\n",
       "      <td>3010</td>\n",
       "      <td>7014</td>\n",
       "      <td>2.0</td>\n",
       "      <td>0</td>\n",
       "      <td>0</td>\n",
       "      <td>3</td>\n",
       "      <td>3010</td>\n",
       "      <td>0</td>\n",
       "      <td>2009</td>\n",
       "      <td>0</td>\n",
       "      <td>759 Ilwaco Pl NE</td>\n",
       "      <td>Renton</td>\n",
       "      <td>WA 98059</td>\n",
       "      <td>USA</td>\n",
       "    </tr>\n",
       "    <tr>\n",
       "      <th>4598</th>\n",
       "      <td>2014-07-10 00:00:00</td>\n",
       "      <td>2.034000e+05</td>\n",
       "      <td>4.0</td>\n",
       "      <td>2.00</td>\n",
       "      <td>2090</td>\n",
       "      <td>6630</td>\n",
       "      <td>1.0</td>\n",
       "      <td>0</td>\n",
       "      <td>0</td>\n",
       "      <td>3</td>\n",
       "      <td>1070</td>\n",
       "      <td>1020</td>\n",
       "      <td>1974</td>\n",
       "      <td>0</td>\n",
       "      <td>5148 S Creston St</td>\n",
       "      <td>Seattle</td>\n",
       "      <td>WA 98178</td>\n",
       "      <td>USA</td>\n",
       "    </tr>\n",
       "    <tr>\n",
       "      <th>4599</th>\n",
       "      <td>2014-07-10 00:00:00</td>\n",
       "      <td>2.206000e+05</td>\n",
       "      <td>3.0</td>\n",
       "      <td>2.50</td>\n",
       "      <td>1490</td>\n",
       "      <td>8102</td>\n",
       "      <td>2.0</td>\n",
       "      <td>0</td>\n",
       "      <td>0</td>\n",
       "      <td>4</td>\n",
       "      <td>1490</td>\n",
       "      <td>0</td>\n",
       "      <td>1990</td>\n",
       "      <td>0</td>\n",
       "      <td>18717 SE 258th St</td>\n",
       "      <td>Covington</td>\n",
       "      <td>WA 98042</td>\n",
       "      <td>USA</td>\n",
       "    </tr>\n",
       "  </tbody>\n",
       "</table>\n",
       "<p>4600 rows × 18 columns</p>\n",
       "</div>"
      ],
      "text/plain": [
       "                     date         price  bedrooms  bathrooms  sqft_living  \\\n",
       "0     2014-05-02 00:00:00  3.130000e+05       3.0       1.50         1340   \n",
       "1     2014-05-02 00:00:00  2.384000e+06       5.0       2.50         3650   \n",
       "2     2014-05-02 00:00:00  3.420000e+05       3.0       2.00         1930   \n",
       "3     2014-05-02 00:00:00  4.200000e+05       3.0       2.25         2000   \n",
       "4     2014-05-02 00:00:00  5.500000e+05       4.0       2.50         1940   \n",
       "...                   ...           ...       ...        ...          ...   \n",
       "4595  2014-07-09 00:00:00  3.081667e+05       3.0       1.75         1510   \n",
       "4596  2014-07-09 00:00:00  5.343333e+05       3.0       2.50         1460   \n",
       "4597  2014-07-09 00:00:00  4.169042e+05       3.0       2.50         3010   \n",
       "4598  2014-07-10 00:00:00  2.034000e+05       4.0       2.00         2090   \n",
       "4599  2014-07-10 00:00:00  2.206000e+05       3.0       2.50         1490   \n",
       "\n",
       "      sqft_lot  floors  waterfront  view  condition  sqft_above  \\\n",
       "0         7912     1.5           0     0          3        1340   \n",
       "1         9050     2.0           0     4          5        3370   \n",
       "2        11947     1.0           0     0          4        1930   \n",
       "3         8030     1.0           0     0          4        1000   \n",
       "4        10500     1.0           0     0          4        1140   \n",
       "...        ...     ...         ...   ...        ...         ...   \n",
       "4595      6360     1.0           0     0          4        1510   \n",
       "4596      7573     2.0           0     0          3        1460   \n",
       "4597      7014     2.0           0     0          3        3010   \n",
       "4598      6630     1.0           0     0          3        1070   \n",
       "4599      8102     2.0           0     0          4        1490   \n",
       "\n",
       "      sqft_basement  yr_built  yr_renovated                    street  \\\n",
       "0                 0      1955          2005      18810 Densmore Ave N   \n",
       "1               280      1921             0           709 W Blaine St   \n",
       "2                 0      1966             0  26206-26214 143rd Ave SE   \n",
       "3              1000      1963             0           857 170th Pl NE   \n",
       "4               800      1976          1992         9105 170th Ave NE   \n",
       "...             ...       ...           ...                       ...   \n",
       "4595              0      1954          1979            501 N 143rd St   \n",
       "4596              0      1983          2009          14855 SE 10th Pl   \n",
       "4597              0      2009             0          759 Ilwaco Pl NE   \n",
       "4598           1020      1974             0         5148 S Creston St   \n",
       "4599              0      1990             0         18717 SE 258th St   \n",
       "\n",
       "           city  statezip country  \n",
       "0     Shoreline  WA 98133     USA  \n",
       "1       Seattle  WA 98119     USA  \n",
       "2          Kent  WA 98042     USA  \n",
       "3      Bellevue  WA 98008     USA  \n",
       "4       Redmond  WA 98052     USA  \n",
       "...         ...       ...     ...  \n",
       "4595    Seattle  WA 98133     USA  \n",
       "4596   Bellevue  WA 98007     USA  \n",
       "4597     Renton  WA 98059     USA  \n",
       "4598    Seattle  WA 98178     USA  \n",
       "4599  Covington  WA 98042     USA  \n",
       "\n",
       "[4600 rows x 18 columns]"
      ]
     },
     "execution_count": 4,
     "metadata": {},
     "output_type": "execute_result"
    }
   ],
   "source": [
    "data"
   ]
  },
  {
   "cell_type": "markdown",
   "metadata": {
    "colab_type": "text",
    "id": "qR9y2VSFajg8"
   },
   "source": [
    "# Preprocessing\n",
    "Convert date to int"
   ]
  },
  {
   "cell_type": "code",
   "execution_count": 5,
   "metadata": {
    "colab": {},
    "colab_type": "code",
    "id": "RvXGc9XnY9rT"
   },
   "outputs": [],
   "source": [
    "data['date_int'] = pd.to_datetime(data['date']).dt.strftime(\"%Y%m%d\").astype(int)"
   ]
  },
  {
   "cell_type": "markdown",
   "metadata": {
    "colab_type": "text",
    "id": "q01OIjyfaoVW"
   },
   "source": [
    "Convert cities to one hot"
   ]
  },
  {
   "cell_type": "code",
   "execution_count": 6,
   "metadata": {
    "colab": {},
    "colab_type": "code",
    "id": "G5b7DYU7ZTnI"
   },
   "outputs": [],
   "source": [
    "city = pd.get_dummies(pd.Categorical(data['city']), prefix='city')"
   ]
  },
  {
   "cell_type": "markdown",
   "metadata": {
    "colab_type": "text",
    "id": "k1tk1MMhcl9h"
   },
   "source": [
    "convert observation to numpy"
   ]
  },
  {
   "cell_type": "code",
   "execution_count": 7,
   "metadata": {
    "colab": {},
    "colab_type": "code",
    "id": "CJdGsV7raRFH"
   },
   "outputs": [],
   "source": [
    "X = np.concatenate([data[['date_int', 'bedrooms', 'bathrooms', 'sqft_living', 'sqft_lot', 'floors', 'waterfront', 'view', 'condition', 'sqft_above', 'sqft_basement', 'yr_built', 'yr_renovated']].to_numpy(), city.to_numpy()], axis=1)"
   ]
  },
  {
   "cell_type": "code",
   "execution_count": 8,
   "metadata": {
    "colab": {
     "base_uri": "https://localhost:8080/",
     "height": 35
    },
    "colab_type": "code",
    "id": "GSX25wOebtWc",
    "outputId": "b9032219-4c13-42df-83f4-f0690a9c2e88"
   },
   "outputs": [
    {
     "data": {
      "text/plain": [
       "(4600, 57)"
      ]
     },
     "execution_count": 8,
     "metadata": {},
     "output_type": "execute_result"
    }
   ],
   "source": [
    "X.shape"
   ]
  },
  {
   "cell_type": "markdown",
   "metadata": {
    "colab_type": "text",
    "id": "2CKkLCIxcrZR"
   },
   "source": [
    "convert price to numpy"
   ]
  },
  {
   "cell_type": "code",
   "execution_count": 9,
   "metadata": {
    "colab": {
     "base_uri": "https://localhost:8080/",
     "height": 35
    },
    "colab_type": "code",
    "id": "zkEv119hcKk7",
    "outputId": "e7e566a0-a801-40b3-b832-022a240f28c7"
   },
   "outputs": [
    {
     "data": {
      "text/plain": [
       "(4600,)"
      ]
     },
     "execution_count": 9,
     "metadata": {},
     "output_type": "execute_result"
    }
   ],
   "source": [
    "Y = data['price'].to_numpy()\n",
    "Y.shape"
   ]
  },
  {
   "cell_type": "markdown",
   "metadata": {
    "colab_type": "text",
    "id": "U-6Uf-Pwcy1Y"
   },
   "source": [
    "split train/val/test sets"
   ]
  },
  {
   "cell_type": "code",
   "execution_count": 10,
   "metadata": {
    "colab": {},
    "colab_type": "code",
    "id": "1lDdtL_PcxAr"
   },
   "outputs": [],
   "source": [
    "r = np.random.permutation(len(X))\n",
    "X_train = X[r[0:3500], :]\n",
    "Y_train = Y[r[0:3500]]\n",
    "X_val = X[r[3500:4000], :]\n",
    "Y_val = Y[r[3500:4000]]\n",
    "X_test = X[r[4000:], :]\n",
    "Y_test = Y[r[4000:]]"
   ]
  },
  {
   "cell_type": "markdown",
   "metadata": {
    "colab_type": "text",
    "id": "Suoj0ipldUHY"
   },
   "source": [
    "# Classification\n",
    "\n",
    "First, split the prices into 2 categories of equal sizes (split by median price) and try to predict the category of the houses. We will measure the perfomances of our prediction with the accuracy (percentage of correct predictions).\n",
    "\n",
    "Here is a list of things to try:\n",
    "- Strandardize data (each component has zero mean and unit variance)\n",
    "- Orthogonalize data (perform PCA, try with and without whitening)\n",
    "- Different classifiers (LDA, logistic regression, k-NN with varying k)\n",
    "Among thoses choices, select the best performing model on val and evaluate it on test.\n",
    "\n",
    "Then, split the prices into 5 categories and try to find the best k-NN classifier (including the data normalization). Hyperparameters (pre-processing steps, number of neighbors) are always chosen using the validation set. Report the accuracy on the test set and analyze your results (how confident you are in the classifier, what are the difficulties, what may improve the classification, what bias did you find, etc).\n"
   ]
  },
  {
   "cell_type": "code",
   "execution_count": 11,
   "metadata": {
    "colab": {},
    "colab_type": "code",
    "id": "QLsLpOjodNmI",
    "scrolled": true
   },
   "outputs": [
    {
     "name": "stdout",
     "output_type": "stream",
     "text": [
      "57 features\n"
     ]
    }
   ],
   "source": [
    "import numpy as np\n",
    "from numpy.linalg import eigh\n",
    "import matplotlib.pyplot as plt\n",
    "\n",
    "def standardize(X):\n",
    "    eps = 1e-8 # In case where std = 0\n",
    "    X_s = (X-np.mean(X, axis = 0))/(np.std(X, axis = 0) + eps)\n",
    "    return X_s\n",
    "\n",
    "def normalize(X):\n",
    "    eps = 1e-8 # In case where max = min\n",
    "    X_n = (X-np.min(X, axis=0))/(np.max(X, axis = 0)-np.min(X, axis=0)+eps)\n",
    "    return X_n\n",
    "\n",
    "X_t = standardize(X_train)\n",
    "print(str(X_t.shape[1]) + \" features\")"
   ]
  },
  {
   "cell_type": "code",
   "execution_count": 12,
   "metadata": {
    "scrolled": true
   },
   "outputs": [
    {
     "data": {
      "image/png": "[encoded data removed]",
      "text/plain": [
       "<Figure size 432x288 with 1 Axes>"
      ]
     },
     "metadata": {
      "needs_background": "light"
     },
     "output_type": "display_data"
    },
    {
     "name": "stdout",
     "output_type": "stream",
     "text": [
      "97.78775875674107% of data conserved\n"
     ]
    }
   ],
   "source": [
    "def pca(X, n_comp, whitening = True, visual = False):\n",
    "    \n",
    "    K = np.cov(X.T) # Correlation matrix\n",
    "    eig_values, eig_vectors = eigh(K) # Sorted eigenvalues and eigenvectors\n",
    "\n",
    "    eig_values = eig_values[::-1]\n",
    "    eig_vectors = eig_vectors.T[::-1]\n",
    "    \n",
    "    def data_saved(m): # Which percentage of data is saved if we select the m greatest eigenvalues ?\n",
    "        return sum(eig_values[:m])/sum(eig_values)\n",
    "    \n",
    "    if visual:\n",
    "        plt.figure(1)\n",
    "        plt.xlabel(\"Number of principal component selected\")\n",
    "        plt.ylabel(\"Percentage of information conserved\")\n",
    "        n, p = X.shape\n",
    "        x_axis = range(0, p)\n",
    "        y_axis = [100*data_saved(x) for x in x_axis]\n",
    "        plt.plot(x_axis,y_axis)\n",
    "        plt.show()\n",
    "        print(str(100*data_saved(n_comp)) + \"% of data conserved\")\n",
    "\n",
    "    # Orthogonalizing data\n",
    "\n",
    "    new_base = eig_vectors[:n_comp]\n",
    "    X_pca = np.dot(X, new_base.T)\n",
    "    \n",
    "    if whitening:\n",
    "        X_pca = np.dot(X_pca, np.diag(eig_values[0:n_comp]**(-1/2)))\n",
    "        \n",
    "    return X_pca\n",
    "\n",
    "X_t = standardize(X_train)\n",
    "n_comp = 50\n",
    "X_t_pca = pca(X_t, n_comp, visual = True)"
   ]
  },
  {
   "cell_type": "markdown",
   "metadata": {},
   "source": [
    "On n'observe pas une grande plus value à ne conserver que les premières composantes principales. On peut néanmoins éliminer les quelques features ayant une variance nulle."
   ]
  },
  {
   "cell_type": "code",
   "execution_count": 15,
   "metadata": {},
   "outputs": [
    {
     "name": "stdout",
     "output_type": "stream",
     "text": [
      "training, iteration: 100/100\n",
      "training, iteration: 100/100\n",
      "Accuracy for data standardized and orthogonalized: 51.800000000000004%\n",
      "Accuracy for data standardized: 83.6%\n"
     ]
    }
   ],
   "source": [
    "def sig(x):\n",
    "    return 1/ (1 + np.exp(-x))\n",
    "\n",
    "def add_ones(X):\n",
    "    \"\"\"Adds a column of 1 at the\n",
    "    beginning of X\"\"\"\n",
    "    new_X = np.array([np.ones(X.shape[0])] + [sample for sample in X.T])\n",
    "    return new_X.T\n",
    "\n",
    "\n",
    "\n",
    "def logistic_regression(X, Y, n_iter = 100, delta = 0.001):\n",
    "    \"\"\"Returns coefficients of the logistic\n",
    "    regression which predicts Y with X\"\"\"\n",
    "    \n",
    "    n_feature = X.shape[1]\n",
    "    beta = np.zeros(n_feature) # Logistic regression coefficients\n",
    "    \n",
    "    def grad_logistic(X, Y, beta):\n",
    "        \"\"\"Gradient of loss function\"\"\"\n",
    "        n_sample = X.shape[0]\n",
    "        Y_pred = sig(np.dot(X, beta))\n",
    "        dbeta = np.sum( [(Y_pred[i]-Y[i]) * X[i] for i in range(n_sample)], axis=0)\n",
    "        return dbeta\n",
    "        \n",
    "    for i in range(n_iter): # Gradient algorithm\n",
    "        dbeta = grad_logistic(X, Y, beta)\n",
    "        beta = beta - delta * dbeta\n",
    "        print('training, iteration: '+str(i+1)+'/'+str(n_iter)+'\\r', sep=' ', end='', flush=True)\n",
    "    print(\"\\r\")\n",
    "    \n",
    "    return beta\n",
    "\n",
    "n_comp = 40\n",
    "\n",
    "X_pca = add_ones(pca(standardize(X_train), n_comp)) # Data standardized + orthogonalized\n",
    "X_val_pca = add_ones(pca(standardize(X_val), n_comp))\n",
    "X_s = add_ones(standardize(X_train)) # Data only standardized\n",
    "X_val_s = add_ones(standardize(X_val))\n",
    "\n",
    "med = np.median(Y_train) # Creating \"high\" and \"low\" prices\n",
    "Y_t = (Y_train > med).astype(int) # Training set\n",
    "Y_v = (Y_val > med).astype(int) # Validation set\n",
    "\n",
    "beta_pca = logistic_regression(X_pca, Y_t)\n",
    "Y_pred_pca = (sig(np.dot(X_val_pca, beta_pca)) > 1/2).astype(int)\n",
    "\n",
    "beta_s = logistic_regression(X_s, Y_t)\n",
    "Y_pred_s = (sig(np.dot(X_val_s, beta_s)) > 1/2).astype(int)\n",
    "\n",
    "def accuracy_bool(Y, Y_pred):\n",
    "    \"\"\"Measures the accuracy of a\n",
    "    boolean prediction\"\"\"\n",
    "    \n",
    "    good = 0\n",
    "    \n",
    "    n_sample_val = len(Y)\n",
    "    for i in range(n_sample_val):\n",
    "        if Y_pred[i] == Y[i]:\n",
    "            good +=1\n",
    "            \n",
    "    good /= n_sample_val\n",
    "    \n",
    "    return 100*good\n",
    "\n",
    "acc_2 = accuracy_bool(Y_v, Y_pred_pca)    \n",
    "acc_1 = accuracy_bool(Y_v, Y_pred_s)\n",
    "\n",
    "print(\"Accuracy for data standardized and orthogonalized: \" + str(acc_2) + \"%\")\n",
    "print(\"Accuracy for data standardized: \" + str(acc_1) + \"%\")"
   ]
  },
  {
   "cell_type": "code",
   "execution_count": 16,
   "metadata": {},
   "outputs": [
    {
     "name": "stdout",
     "output_type": "stream",
     "text": [
      "Creating nearest neighbors, sample: 500/500\r"
     ]
    }
   ],
   "source": [
    "def sort_by_nearest(sample, X):\n",
    "    \"\"\"Sorting neighbors by smallest distance for every validation sample\n",
    "    \"\"\"\n",
    "    indexes = [i for i in range(X_t.shape[0])]\n",
    "    \n",
    "    def distance(x):\n",
    "        return np.linalg.norm(x[1] - sample)\n",
    "\n",
    "    neigh = list(zip(indexes, X))\n",
    "    \n",
    "    neigh.sort(key = distance)\n",
    "    \n",
    "    sorted_ind = [n[0] for n in neigh]\n",
    "    \n",
    "    return sorted_ind\n",
    "\n",
    "def create_NN(X_t, X_v):   \n",
    "    NN = []\n",
    "    n_val_sample = len(X_v)\n",
    "    for i in range(n_val_sample):\n",
    "        x_v = X_v[i]\n",
    "        print('Creating nearest neighbors, sample: '+str(i+1)+'/'+str(len(X_v))+'\\r', sep=' ', end='', flush=True)\n",
    "        NN.append(sort_by_nearest(x_v, X_t))\n",
    "        \n",
    "    return NN\n",
    "\n",
    "X_s = standardize(X_train)\n",
    "X_val_s = standardize(X_val)\n",
    "NN = create_NN(X_s, X_val_s) # ~30 seconds of computing"
   ]
  },
  {
   "cell_type": "code",
   "execution_count": 19,
   "metadata": {
    "scrolled": true
   },
   "outputs": [
    {
     "name": "stdout",
     "output_type": "stream",
     "text": [
      "Accuracy of kNN algorithm with 2 classes: 84.8 %\n",
      "Accuracy of kNN algorithm with 3 classes: 71.0 %\n",
      "Accuracy of kNN algorithm with 4 classes: 63.4 %\n",
      "Accuracy of kNN algorithm with 5 classes: 53.400000000000006 %\n",
      "Finding best k: 599/600\r"
     ]
    },
    {
     "data": {
      "image/png": "[encoded data removed]",
      "text/plain": [
       "<Figure size 432x288 with 1 Axes>"
      ]
     },
     "metadata": {
      "needs_background": "light"
     },
     "output_type": "display_data"
    },
    {
     "name": "stdout",
     "output_type": "stream",
     "text": [
      "best k: 30\n"
     ]
    }
   ],
   "source": [
    "def list_to_class(L, k):\n",
    "    \"\"\"Divides a list L into k groups\n",
    "    \"\"\"\n",
    "    L2 = np.sort(L)\n",
    "    n = len(L)\n",
    "    boundaries = [L2[int(j*n/k)] for j in range(1, k)] + [np.min(L), np.max(L)]\n",
    "    boundaries.sort()\n",
    "    out = []\n",
    "    for l in L:\n",
    "        for i in range(k):\n",
    "            if boundaries[i] <= l <= boundaries[i+1]:\n",
    "                out.append(i)\n",
    "                break\n",
    "    return out\n",
    "\n",
    "def kNN(NN, Y_t, n_class, k):\n",
    "    Y_tr = list_to_class(Y_t, n_class)\n",
    "    Y_pred = []\n",
    "    for n in NN:\n",
    "        kNN = n[0:k]\n",
    "        kNN_classes = [Y_tr[n] for n in kNN]\n",
    "        kNN_classes_occ = [kNN_classes.count(i) for i in range(n_class)]\n",
    "        Y_pred.append(np.argmax(kNN_classes_occ))\n",
    "    return Y_pred\n",
    "\n",
    "n_class_values = range(2, 6)\n",
    "for n_class in n_class_values:\n",
    "    Y_va = list_to_class(Y_val, n_class)\n",
    "    Y_pred = kNN(NN, Y_train, n_class, 30)\n",
    "    acc = accuracy_bool(Y_va, Y_pred)\n",
    "    print(\"Accuracy of kNN algorithm with \" + str(n_class) + \" classes: \" + str(acc) + \" %\")\n",
    "\n",
    "def best_k(NN, Y_t, Y_v, n_class):\n",
    "    max_k = 600\n",
    "    k_values = range(1, max_k)\n",
    "    scores = []\n",
    "    Y_va = list_to_class(Y_v, n_class)\n",
    "    for k in k_values:\n",
    "        print('Finding best k: '+str(k)+'/'+str(max_k)+'\\r', sep=' ', end='', flush=True)\n",
    "        scores.append(accuracy_bool(Y_va, kNN(NN, Y_t, n_class, k)))\n",
    "    \n",
    "    plt.figure(1)\n",
    "    plt.plot(k_values, scores)\n",
    "    plt.xlabel(\"Number nearest neighbors used\")\n",
    "    plt.ylabel(\"Accuracy in %\")\n",
    "    plt.show()\n",
    "    \n",
    "    ind_best = np.argmax(scores)\n",
    "    print(\"best k: \" + str(k_values[ind_best]))\n",
    "    \n",
    "best_k(NN, Y_train, Y_val, 2) # ~30 seconds of computing"
   ]
  },
  {
   "cell_type": "markdown",
   "metadata": {},
   "source": [
    "Les meilleurs résultats sont obtenus avec la régression logistique, avec des données simplement standardisées. Je suspecte néanmoins un problème concernant les données standardisées et orthogonalisées, on obtient quelque fois des résultats inférieurs aux résultats d'une prédiction aléatoire. Voyons enfin ce que la régression logistique donne sur le groupe de test."
   ]
  },
  {
   "cell_type": "code",
   "execution_count": 21,
   "metadata": {},
   "outputs": [
    {
     "name": "stdout",
     "output_type": "stream",
     "text": [
      "training, iteration: 100/100\n",
      "Accuracy of the best classifier on test samples: 83.5%\n"
     ]
    }
   ],
   "source": [
    "X_s = add_ones(standardize(X_train)) # Data only standardized\n",
    "X_test_s = add_ones(standardize(X_test))\n",
    "\n",
    "med = np.median(Y_train) # Creating \"high\" and \"low\" prices\n",
    "Y_t = (Y_train > med).astype(int)\n",
    "Y_te = (Y_test > med).astype(int)\n",
    "\n",
    "beta_s = logistic_regression(X_s, Y_t)\n",
    "Y_pred_s = (sig(np.dot(X_test_s, beta_s)) > 1/2).astype(int)\n",
    "acc = accuracy_bool(Y_te, Y_pred_s)    \n",
    "\n",
    "print(\"Accuracy of the best classifier on test samples: \" + str(acc) + \"%\")\n"
   ]
  },
  {
   "cell_type": "markdown",
   "metadata": {
    "colab_type": "text",
    "id": "i4UXj4ZQwY_I"
   },
   "source": [
    "# k-NN regression\n",
    "\n",
    "Try now to directly regressthe prices using a k-NN approach. The price is predicted as the average of the prices among the k nearest neighbors. As before, use the validation set to select the hyper parameters and analyze your best results."
   ]
  },
  {
   "cell_type": "code",
   "execution_count": 22,
   "metadata": {},
   "outputs": [
    {
     "name": "stdout",
     "output_type": "stream",
     "text": [
      "Error with kNN regression: 32.71468284639236\n",
      "Finding best k: 249/250\r"
     ]
    },
    {
     "data": {
      "image/png": "[encoded data removed]",
      "text/plain": [
       "<Figure size 432x288 with 1 Axes>"
      ]
     },
     "metadata": {
      "needs_background": "light"
     },
     "output_type": "display_data"
    },
    {
     "name": "stdout",
     "output_type": "stream",
     "text": [
      "best k: 14\n"
     ]
    }
   ],
   "source": [
    "def kNN_regression(NN, Y, k):\n",
    "    Y_pred = []\n",
    "    for n in NN:\n",
    "        kNN = n[0:k]\n",
    "        Y_pred.append((1/k) * sum(Y[nn] for nn in kNN)) # Mean of k nearest neighbors\n",
    "    return Y_pred\n",
    "\n",
    "def accuracy(Y_pred, Y):\n",
    "    \"\"\"Measures accuracy of a\n",
    "    regression prediction\"\"\"\n",
    "    error = np.abs(Y_pred - Y)\n",
    "    return 100*np.mean(error)/np.mean(Y) # Mean experimental error  \n",
    "\n",
    "Y_pred = kNN_regression(NN, Y_train, 10)\n",
    "\n",
    "acc = accuracy(Y_pred, Y_val)\n",
    "\n",
    "print(\"Error with kNN regression: \" + str(acc))\n",
    " \n",
    "    \n",
    "def best_k_regression(NN, Y_t, Y_v):\n",
    "    max_k = 250\n",
    "    k_values = range(1, max_k)\n",
    "    scores = []\n",
    "    for k in k_values:\n",
    "        print('Finding best k: '+str(k)+'/'+str(max_k)+'\\r', sep=' ', end='', flush=True)\n",
    "        scores.append(accuracy(kNN_regression(NN, Y_t, k), Y_v))\n",
    "    plt.figure(1)\n",
    "    plt.plot(k_values, scores)\n",
    "    plt.xlabel(\"Number nearest neighbors used\")\n",
    "    plt.ylabel(\"Error in %\")\n",
    "    plt.show()\n",
    "    \n",
    "    best_k = np.argmin(scores)\n",
    "    print(\"best k: \" + str(k_values[best_k]))\n",
    "    return best_k\n",
    "best_k = best_k_regression(NN, Y_train, Y_val)"
   ]
  },
  {
   "cell_type": "markdown",
   "metadata": {},
   "source": [
    "Maintenant que nous avons trouvé le meilleur k pour le groupe de validation, regardons la précision de ce régresseur sur les données test."
   ]
  },
  {
   "cell_type": "code",
   "execution_count": 23,
   "metadata": {},
   "outputs": [
    {
     "name": "stdout",
     "output_type": "stream",
     "text": [
      "Error of kNN regression on test samples: 45.22480764110267%\n"
     ]
    }
   ],
   "source": [
    "X_s = standardize(X_train)\n",
    "X_test_s = standardize(X_test)\n",
    "NN = create_NN(X_train, X_test_s) # ~30 seconds of computing\n",
    "Y_pred = kNN_regression(NN, Y_train, best_k)\n",
    "\n",
    "acc = accuracy(Y_pred, Y_test)\n",
    "print(\"Error of kNN regression on test samples: \" + str(acc) + \"%\")"
   ]
  },
  {
   "cell_type": "markdown",
   "metadata": {
    "colab_type": "text",
    "id": "t1Y7i5BpyHxE"
   },
   "source": [
    "# Linear Regression\n",
    "\n",
    "Finally, try different setups of linear regression to regress the prices. Here is a short list of things to try:\n",
    "- Data standardization, normalization, orthogonalization\n",
    "- Polynomial transforms (pure monomials as well as cross components products)\n",
    "- Other transforms (exp, log, periodic functions)\n",
    "- Regularization (Ridge, Lasso)\n",
    "Comment your best results."
   ]
  },
  {
   "cell_type": "code",
   "execution_count": 24,
   "metadata": {},
   "outputs": [
    {
     "name": "stdout",
     "output_type": "stream",
     "text": [
      "Error with basic formula regression: 68.17906011619216%\n"
     ]
    }
   ],
   "source": [
    "def basic_lin_regression(X, Y):\n",
    "    return np.dot(np.dot(np.linalg.inv(np.dot(X.T, X)), X.T ), Y) # Using formula\n",
    "\n",
    "n_comp = 50\n",
    "X_pca = add_ones(pca(standardize(X_train), n_comp))\n",
    "X_val_pca = add_ones(pca(standardize(X_val), n_comp))\n",
    "\n",
    "    \n",
    "beta = basic_lin_regression(X_pca, Y_train)\n",
    "Y_pred = np.dot(X_val_pca, beta)\n",
    "\n",
    "\n",
    "acc = accuracy(Y_pred, Y_val)\n",
    "\n",
    "print(\"Error with basic formula regression: \" + str(acc) + \"%\")"
   ]
  },
  {
   "cell_type": "markdown",
   "metadata": {},
   "source": [
    "Pour des données normalisées, on voit que la matrice $X^T X$ n'est pas inversible. Il faut procéder autrement"
   ]
  },
  {
   "cell_type": "code",
   "execution_count": 25,
   "metadata": {
    "colab": {},
    "colab_type": "code",
    "id": "0Ey2WAWcy8GS"
   },
   "outputs": [
    {
     "name": "stdout",
     "output_type": "stream",
     "text": [
      "training, iteration: 50/50\n",
      "Error with gradient algorithm used: 67.63234828005459%\n"
     ]
    }
   ],
   "source": [
    "def grad_error(X, Y, beta):\n",
    "    \"\"\"Computes gradient of the loss\n",
    "    function\"\"\"\n",
    "    n_sample = X.shape[0]\n",
    "    Y_pred = np.dot(X, beta)\n",
    "    dbeta = 2 * (np.sum( [(Y_pred[i]-Y[i]) * X[i] for i in range(n_sample)], axis=0))\n",
    "    return dbeta\n",
    "\n",
    "n_comp = 45\n",
    "X_pca = add_ones(pca(standardize(X_train), n_comp))\n",
    "X_val_pca = add_ones(pca(standardize(X_val), n_comp))\n",
    "\n",
    "def linear_regression(X, Y, n_iter = 50, delta = 0.0001, ridge = 0, lasso = 0):\n",
    "    \"\"\"Returns coefficients of the linear\n",
    "    regression which predicts Y with X\"\"\"\n",
    "    n_feature = X.shape[1]\n",
    "    beta = np.zeros(n_feature)\n",
    "    \n",
    "    def grad_error(X, Y, beta):\n",
    "        \"\"\"Computes gradient of the loss\n",
    "        function\"\"\"\n",
    "        n_sample = X.shape[0]\n",
    "        Y_pred = np.dot(X, beta)\n",
    "        dbeta = 2 * (np.sum( [(Y_pred[i]-Y[i]) * X[i] for i in range(n_sample)], axis=0))\n",
    "        return dbeta\n",
    "    \n",
    "    for i in range(n_iter): # Gradient algorithm\n",
    "        dbeta = grad_error(X, Y, beta)\n",
    "        dbeta += 2*ridge*beta\n",
    "        dbeta += lasso * (2*(beta > 0).astype(int) - 1)\n",
    "        beta = beta - delta * dbeta\n",
    "        #print(np.linalg.norm(dbeta))\n",
    "        print('training, iteration: '+str(i+1)+'/'+str(n_iter)+'\\r', sep=' ', end='', flush=True)\n",
    "    print(\"\\r\")\n",
    "    return beta\n",
    "\n",
    "beta = linear_regression(X_pca, Y_train)\n",
    "Y_pred = np.dot(X_val_pca, beta)\n",
    "\n",
    "acc = accuracy(Y_pred, Y_val)\n",
    "print(\"Error with gradient algorithm used: \" + str(acc) + \"%\")"
   ]
  },
  {
   "cell_type": "code",
   "execution_count": 26,
   "metadata": {},
   "outputs": [
    {
     "name": "stdout",
     "output_type": "stream",
     "text": [
      "training, iteration: 50/50\n",
      "Error with normalized data: 36.991400519328415%\n"
     ]
    }
   ],
   "source": [
    "X_n = normalize(X_train)\n",
    "X_val_n = normalize(X_val)\n",
    "\n",
    "beta = linear_regression(X_n, Y_train, n_iter = 50)\n",
    "Y_pred = np.dot(X_val_n, beta)\n",
    "acc = accuracy(Y_pred, Y_val)\n",
    "print(\"Error with normalized data: \" + str(acc) + \"%\")"
   ]
  },
  {
   "cell_type": "markdown",
   "metadata": {},
   "source": [
    "Ici, l'algorithme du gradient prend plusieurs dizaines de milliers d'itérations pour converger. L'algorithme du gradient à pas constant est assez faible."
   ]
  },
  {
   "cell_type": "code",
   "execution_count": 27,
   "metadata": {},
   "outputs": [
    {
     "name": "stdout",
     "output_type": "stream",
     "text": [
      "training, iteration: 30/30\n",
      "Error with cross products: 78.51424124983106%\n"
     ]
    }
   ],
   "source": [
    "n_comp = 50\n",
    "X_t_pca = pca(standardize(X_train), n_comp)\n",
    "X_v_pca = pca(standardize(X_val), n_comp)\n",
    "\n",
    "def cross_products(X):\n",
    "    n_feature = X.shape[1]\n",
    "    X_products = [feature for feature in X.T]\n",
    "    for i in range(n_feature):\n",
    "        for j in range(n_feature):\n",
    "            xi = X.T[i]\n",
    "            xj = X.T[j]\n",
    "            X_products.append(xi * xj)\n",
    "    X_products = np.array(X_products)\n",
    "    return X_products.T\n",
    "\n",
    "X_products = cross_products(X_t_pca)\n",
    "X_val_products = cross_products(X_v_pca)\n",
    "\n",
    "beta = linear_regression(X_products, Y_train, n_iter = 30, delta = 0.00000007)\n",
    "\n",
    "Y_pred = np.dot(X_val_products, beta)\n",
    "\n",
    "acc = accuracy(Y_pred, Y_val)\n",
    "\n",
    "print(\"Error with cross products: \" + str(acc) + \"%\")"
   ]
  },
  {
   "cell_type": "markdown",
   "metadata": {},
   "source": [
    "La recherche d'un bon couple (nombre d'itérations, pas de l'algorithme) se révèle long et fastidieux. Je n'ai pas pu faire beaucoup mieux qu'environ 70% d'erreur moyenne. Les produits croisés ne sont pas une bonne idée"
   ]
  },
  {
   "cell_type": "code",
   "execution_count": 28,
   "metadata": {},
   "outputs": [
    {
     "name": "stdout",
     "output_type": "stream",
     "text": [
      "training, iteration: 10/10\n",
      "Erreur en modifiant les features avec des fonctions usuelles: 3.204400836315527e+78%\n"
     ]
    }
   ],
   "source": [
    "def other_transforms(X):\n",
    "    def transform_feature(feature, func):\n",
    "        if func == \"sin\":\n",
    "            return np.sin(feature)\n",
    "        if func == \"cos\":\n",
    "            return np.cos(feature)\n",
    "        if func == \"exp\":\n",
    "            return np.exp(feature)\n",
    "        if func == \"cube\":\n",
    "            return feature*feature*feature\n",
    "    int_to_func = {1: \"sin\", 2: \"cos\", 3: \"exp\", 4: \"cube\"}\n",
    "    \n",
    "    n_features = X.shape[1]\n",
    "    \n",
    "    for i in range(n_features):\n",
    "        p = np.random.randint(1,5)\n",
    "        func = int_to_func[p]\n",
    "        X.T[i] = transform_feature(X.T[i], func)\n",
    "    return X\n",
    "\n",
    "n_comp = 50\n",
    "X_t_pca = pca(standardize(X_train), n_comp)\n",
    "X_v_pca = pca(standardize(X_val), n_comp)\n",
    "\n",
    "X_trans = other_transforms(X_t_pca)\n",
    "X_val_trans = other_transforms(X_v_pca)\n",
    "\n",
    "beta = linear_regression(X_trans, Y_train, n_iter = 10, delta = 0.0000000000000001)\n",
    "\n",
    "Y_pred = np.dot(X_val_trans, beta)\n",
    "\n",
    "acc = accuracy(Y_pred, Y_val)\n",
    "\n",
    "print(\"Erreur en modifiant les features avec des fonctions usuelles: \" + str(acc) + \"%\")"
   ]
  },
  {
   "cell_type": "markdown",
   "metadata": {},
   "source": [
    "Même observation que pour les produits croisés, difficile d'obtenir une erreur raisonnable. Le résultat est très sensible par rapport au couple (n_iter, delta). Comme les données sont mélangées au début, les hyperparamètres doivent être réajustés à chaque fois."
   ]
  },
  {
   "cell_type": "code",
   "execution_count": 29,
   "metadata": {},
   "outputs": [
    {
     "name": "stdout",
     "output_type": "stream",
     "text": [
      "training, iteration: 100/100\n",
      "Error without ridge regularization (normalized data): 37.63754993032739%\n",
      "training, iteration: 100/100\n",
      "Error with ridge regularization (normalized data): 36.95312679758324%\n"
     ]
    }
   ],
   "source": [
    "X_n = normalize(X_train)\n",
    "X_val_n = normalize(X_val)\n",
    "\n",
    "beta_1 = linear_regression(X_n, Y_train, n_iter = 100)\n",
    "Y_pred_1 = np.dot(X_val_n, beta_1)\n",
    "acc_1 = accuracy(Y_pred_1, Y_val)\n",
    "\n",
    "print(\"Error without ridge regularization (normalized data): \" + str(acc_1) + \"%\")\n",
    "\n",
    "X_n = normalize(X_train)\n",
    "X_val_n = normalize(X_val)\n",
    "\n",
    "beta_2 = linear_regression(X_n, Y_train, n_iter = 100, ridge = 100)\n",
    "Y_pred_2 = np.dot(X_val_n, beta_2)\n",
    "acc_2 = accuracy(Y_pred_2, Y_val)\n",
    "\n",
    "print(\"Error with ridge regularization (normalized data): \" + str(acc_2) + \"%\")"
   ]
  },
  {
   "cell_type": "markdown",
   "metadata": {},
   "source": [
    "La régularisation de Ridge permet de gagner un peu en précision, surtout pour un nombre d'itérations élevée."
   ]
  },
  {
   "cell_type": "code",
   "execution_count": 30,
   "metadata": {},
   "outputs": [
    {
     "name": "stdout",
     "output_type": "stream",
     "text": [
      "training, iteration: 100/100\n",
      "Error without lasso regularization: 37.63754993032739%\n",
      "training, iteration: 100/100\n",
      "Error with lasso regularization: 37.580699451929256%\n"
     ]
    }
   ],
   "source": [
    "X_n = normalize(X_train)\n",
    "X_val_n = normalize(X_val)\n",
    "\n",
    "beta_1 = linear_regression(X_n, Y_train, n_iter = 100)\n",
    "Y_pred_1 = np.dot(X_val_n, beta_1)\n",
    "acc_1 = accuracy(Y_pred_1, Y_val)\n",
    "\n",
    "print(\"Error without lasso regularization: \" + str(acc_1) + \"%\")\n",
    "\n",
    "X_n = normalize(X_train)\n",
    "X_val_n = normalize(X_val)\n",
    "\n",
    "beta_2 = linear_regression(X_n, Y_train, n_iter = 100, lasso = 500000)\n",
    "Y_pred_2 = np.dot(X_val_n, beta_2)\n",
    "acc_2 = accuracy(Y_pred_2, Y_val)\n",
    "\n",
    "print(\"Error with lasso regularization: \" + str(acc_2) + \"%\")"
   ]
  },
  {
   "cell_type": "markdown",
   "metadata": {},
   "source": [
    "La régularisation de Lasso est moins efficace sur nos données.\n",
    "Les meilleurs résultats sont obtenus en normalisant nos données puis en régularisant nos données via Ridge."
   ]
  }
 ],
 "metadata": {
  "colab": {
   "collapsed_sections": [],
   "name": "house_price_regression.ipynb",
   "provenance": []
  },
  "kernelspec": {
   "display_name": "Python 3",
   "language": "python",
   "name": "python3"
  },
  "language_info": {
   "codemirror_mode": {
    "name": "ipython",
    "version": 3
   },
   "file_extension": ".py",
   "mimetype": "text/x-python",
   "name": "python",
   "nbconvert_exporter": "python",
   "pygments_lexer": "ipython3",
   "version": "3.6.9"
  }
 },
 "nbformat": 4,
 "nbformat_minor": 1
}
