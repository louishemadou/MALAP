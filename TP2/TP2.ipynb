{
 "cells": [
  {
   "cell_type": "markdown",
   "metadata": {},
   "source": [
    "# TP2 Louis Hémadou"
   ]
  },
  {
   "cell_type": "markdown",
   "metadata": {
    "colab_type": "text",
    "id": "ScLL5BZ-dgyn"
   },
   "source": [
    "# Get Data and load packages"
   ]
  },
  {
   "cell_type": "code",
   "execution_count": 1,
   "metadata": {
    "colab": {},
    "colab_type": "code",
    "id": "rwvrTFnb-gIq"
   },
   "outputs": [],
   "source": [
    "import pandas as pd\n",
    "import numpy as np\n",
    "#from google.colab import files"
   ]
  },
  {
   "cell_type": "code",
   "execution_count": 2,
   "metadata": {
    "colab": {
     "base_uri": "https://localhost:8080/",
     "height": 123,
     "resources": {
      "http://localhost:8080/nbextensions/google.colab/files.js": {
       "data": "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",
       "headers": [
        [
         "content-type",
         "application/javascript"
        ]
       ],
       "ok": true,
       "status": 200,
       "status_text": "OK"
      }
     }
    },
    "colab_type": "code",
    "id": "l0-ABLKVUbww",
    "outputId": "f0dfc5e1-8d9c-4f7d-960a-2f58e896ce69"
   },
   "outputs": [],
   "source": [
    "#files.upload()"
   ]
  },
  {
   "cell_type": "code",
   "execution_count": 3,
   "metadata": {
    "colab": {},
    "colab_type": "code",
    "id": "AJz_76-EUgJX"
   },
   "outputs": [],
   "source": [
    "data = pd.read_csv('./housedata/data.csv')"
   ]
  },
  {
   "cell_type": "code",
   "execution_count": 4,
   "metadata": {
    "colab": {
     "base_uri": "https://localhost:8080/",
     "height": 424
    },
    "colab_type": "code",
    "id": "d8uCqLYIYphA",
    "outputId": "68bbb062-5520-45de-e62c-2595e227da3a",
    "scrolled": true
   },
   "outputs": [
    {
     "data": {
      "text/html": [
       "<div>\n",
       "<style scoped>\n",
       "    .dataframe tbody tr th:only-of-type {\n",
       "        vertical-align: middle;\n",
       "    }\n",
       "\n",
       "    .dataframe tbody tr th {\n",
       "        vertical-align: top;\n",
       "    }\n",
       "\n",
       "    .dataframe thead th {\n",
       "        text-align: right;\n",
       "    }\n",
       "</style>\n",
       "<table border=\"1\" class=\"dataframe\">\n",
       "  <thead>\n",
       "    <tr style=\"text-align: right;\">\n",
       "      <th></th>\n",
       "      <th>date</th>\n",
       "      <th>price</th>\n",
       "      <th>bedrooms</th>\n",
       "      <th>bathrooms</th>\n",
       "      <th>sqft_living</th>\n",
       "      <th>sqft_lot</th>\n",
       "      <th>floors</th>\n",
       "      <th>waterfront</th>\n",
       "      <th>view</th>\n",
       "      <th>condition</th>\n",
       "      <th>sqft_above</th>\n",
       "      <th>sqft_basement</th>\n",
       "      <th>yr_built</th>\n",
       "      <th>yr_renovated</th>\n",
       "      <th>street</th>\n",
       "      <th>city</th>\n",
       "      <th>statezip</th>\n",
       "      <th>country</th>\n",
       "    </tr>\n",
       "  </thead>\n",
       "  <tbody>\n",
       "    <tr>\n",
       "      <th>0</th>\n",
       "      <td>2014-05-02 00:00:00</td>\n",
       "      <td>3.130000e+05</td>\n",
       "      <td>3.0</td>\n",
       "      <td>1.50</td>\n",
       "      <td>1340</td>\n",
       "      <td>7912</td>\n",
       "      <td>1.5</td>\n",
       "      <td>0</td>\n",
       "      <td>0</td>\n",
       "      <td>3</td>\n",
       "      <td>1340</td>\n",
       "      <td>0</td>\n",
       "      <td>1955</td>\n",
       "      <td>2005</td>\n",
       "      <td>18810 Densmore Ave N</td>\n",
       "      <td>Shoreline</td>\n",
       "      <td>WA 98133</td>\n",
       "      <td>USA</td>\n",
       "    </tr>\n",
       "    <tr>\n",
       "      <th>1</th>\n",
       "      <td>2014-05-02 00:00:00</td>\n",
       "      <td>2.384000e+06</td>\n",
       "      <td>5.0</td>\n",
       "      <td>2.50</td>\n",
       "      <td>3650</td>\n",
       "      <td>9050</td>\n",
       "      <td>2.0</td>\n",
       "      <td>0</td>\n",
       "      <td>4</td>\n",
       "      <td>5</td>\n",
       "      <td>3370</td>\n",
       "      <td>280</td>\n",
       "      <td>1921</td>\n",
       "      <td>0</td>\n",
       "      <td>709 W Blaine St</td>\n",
       "      <td>Seattle</td>\n",
       "      <td>WA 98119</td>\n",
       "      <td>USA</td>\n",
       "    </tr>\n",
       "    <tr>\n",
       "      <th>2</th>\n",
       "      <td>2014-05-02 00:00:00</td>\n",
       "      <td>3.420000e+05</td>\n",
       "      <td>3.0</td>\n",
       "      <td>2.00</td>\n",
       "      <td>1930</td>\n",
       "      <td>11947</td>\n",
       "      <td>1.0</td>\n",
       "      <td>0</td>\n",
       "      <td>0</td>\n",
       "      <td>4</td>\n",
       "      <td>1930</td>\n",
       "      <td>0</td>\n",
       "      <td>1966</td>\n",
       "      <td>0</td>\n",
       "      <td>26206-26214 143rd Ave SE</td>\n",
       "      <td>Kent</td>\n",
       "      <td>WA 98042</td>\n",
       "      <td>USA</td>\n",
       "    </tr>\n",
       "    <tr>\n",
       "      <th>3</th>\n",
       "      <td>2014-05-02 00:00:00</td>\n",
       "      <td>4.200000e+05</td>\n",
       "      <td>3.0</td>\n",
       "      <td>2.25</td>\n",
       "      <td>2000</td>\n",
       "      <td>8030</td>\n",
       "      <td>1.0</td>\n",
       "      <td>0</td>\n",
       "      <td>0</td>\n",
       "      <td>4</td>\n",
       "      <td>1000</td>\n",
       "      <td>1000</td>\n",
       "      <td>1963</td>\n",
       "      <td>0</td>\n",
       "      <td>857 170th Pl NE</td>\n",
       "      <td>Bellevue</td>\n",
       "      <td>WA 98008</td>\n",
       "      <td>USA</td>\n",
       "    </tr>\n",
       "    <tr>\n",
       "      <th>4</th>\n",
       "      <td>2014-05-02 00:00:00</td>\n",
       "      <td>5.500000e+05</td>\n",
       "      <td>4.0</td>\n",
       "      <td>2.50</td>\n",
       "      <td>1940</td>\n",
       "      <td>10500</td>\n",
       "      <td>1.0</td>\n",
       "      <td>0</td>\n",
       "      <td>0</td>\n",
       "      <td>4</td>\n",
       "      <td>1140</td>\n",
       "      <td>800</td>\n",
       "      <td>1976</td>\n",
       "      <td>1992</td>\n",
       "      <td>9105 170th Ave NE</td>\n",
       "      <td>Redmond</td>\n",
       "      <td>WA 98052</td>\n",
       "      <td>USA</td>\n",
       "    </tr>\n",
       "    <tr>\n",
       "      <th>...</th>\n",
       "      <td>...</td>\n",
       "      <td>...</td>\n",
       "      <td>...</td>\n",
       "      <td>...</td>\n",
       "      <td>...</td>\n",
       "      <td>...</td>\n",
       "      <td>...</td>\n",
       "      <td>...</td>\n",
       "      <td>...</td>\n",
       "      <td>...</td>\n",
       "      <td>...</td>\n",
       "      <td>...</td>\n",
       "      <td>...</td>\n",
       "      <td>...</td>\n",
       "      <td>...</td>\n",
       "      <td>...</td>\n",
       "      <td>...</td>\n",
       "      <td>...</td>\n",
       "    </tr>\n",
       "    <tr>\n",
       "      <th>4595</th>\n",
       "      <td>2014-07-09 00:00:00</td>\n",
       "      <td>3.081667e+05</td>\n",
       "      <td>3.0</td>\n",
       "      <td>1.75</td>\n",
       "      <td>1510</td>\n",
       "      <td>6360</td>\n",
       "      <td>1.0</td>\n",
       "      <td>0</td>\n",
       "      <td>0</td>\n",
       "      <td>4</td>\n",
       "      <td>1510</td>\n",
       "      <td>0</td>\n",
       "      <td>1954</td>\n",
       "      <td>1979</td>\n",
       "      <td>501 N 143rd St</td>\n",
       "      <td>Seattle</td>\n",
       "      <td>WA 98133</td>\n",
       "      <td>USA</td>\n",
       "    </tr>\n",
       "    <tr>\n",
       "      <th>4596</th>\n",
       "      <td>2014-07-09 00:00:00</td>\n",
       "      <td>5.343333e+05</td>\n",
       "      <td>3.0</td>\n",
       "      <td>2.50</td>\n",
       "      <td>1460</td>\n",
       "      <td>7573</td>\n",
       "      <td>2.0</td>\n",
       "      <td>0</td>\n",
       "      <td>0</td>\n",
       "      <td>3</td>\n",
       "      <td>1460</td>\n",
       "      <td>0</td>\n",
       "      <td>1983</td>\n",
       "      <td>2009</td>\n",
       "      <td>14855 SE 10th Pl</td>\n",
       "      <td>Bellevue</td>\n",
       "      <td>WA 98007</td>\n",
       "      <td>USA</td>\n",
       "    </tr>\n",
       "    <tr>\n",
       "      <th>4597</th>\n",
       "      <td>2014-07-09 00:00:00</td>\n",
       "      <td>4.169042e+05</td>\n",
       "      <td>3.0</td>\n",
       "      <td>2.50</td>\n",
       "      <td>3010</td>\n",
       "      <td>7014</td>\n",
       "      <td>2.0</td>\n",
       "      <td>0</td>\n",
       "      <td>0</td>\n",
       "      <td>3</td>\n",
       "      <td>3010</td>\n",
       "      <td>0</td>\n",
       "      <td>2009</td>\n",
       "      <td>0</td>\n",
       "      <td>759 Ilwaco Pl NE</td>\n",
       "      <td>Renton</td>\n",
       "      <td>WA 98059</td>\n",
       "      <td>USA</td>\n",
       "    </tr>\n",
       "    <tr>\n",
       "      <th>4598</th>\n",
       "      <td>2014-07-10 00:00:00</td>\n",
       "      <td>2.034000e+05</td>\n",
       "      <td>4.0</td>\n",
       "      <td>2.00</td>\n",
       "      <td>2090</td>\n",
       "      <td>6630</td>\n",
       "      <td>1.0</td>\n",
       "      <td>0</td>\n",
       "      <td>0</td>\n",
       "      <td>3</td>\n",
       "      <td>1070</td>\n",
       "      <td>1020</td>\n",
       "      <td>1974</td>\n",
       "      <td>0</td>\n",
       "      <td>5148 S Creston St</td>\n",
       "      <td>Seattle</td>\n",
       "      <td>WA 98178</td>\n",
       "      <td>USA</td>\n",
       "    </tr>\n",
       "    <tr>\n",
       "      <th>4599</th>\n",
       "      <td>2014-07-10 00:00:00</td>\n",
       "      <td>2.206000e+05</td>\n",
       "      <td>3.0</td>\n",
       "      <td>2.50</td>\n",
       "      <td>1490</td>\n",
       "      <td>8102</td>\n",
       "      <td>2.0</td>\n",
       "      <td>0</td>\n",
       "      <td>0</td>\n",
       "      <td>4</td>\n",
       "      <td>1490</td>\n",
       "      <td>0</td>\n",
       "      <td>1990</td>\n",
       "      <td>0</td>\n",
       "      <td>18717 SE 258th St</td>\n",
       "      <td>Covington</td>\n",
       "      <td>WA 98042</td>\n",
       "      <td>USA</td>\n",
       "    </tr>\n",
       "  </tbody>\n",
       "</table>\n",
       "<p>4600 rows × 18 columns</p>\n",
       "</div>"
      ],
      "text/plain": [
       "                     date         price  bedrooms  bathrooms  sqft_living  \\\n",
       "0     2014-05-02 00:00:00  3.130000e+05       3.0       1.50         1340   \n",
       "1     2014-05-02 00:00:00  2.384000e+06       5.0       2.50         3650   \n",
       "2     2014-05-02 00:00:00  3.420000e+05       3.0       2.00         1930   \n",
       "3     2014-05-02 00:00:00  4.200000e+05       3.0       2.25         2000   \n",
       "4     2014-05-02 00:00:00  5.500000e+05       4.0       2.50         1940   \n",
       "...                   ...           ...       ...        ...          ...   \n",
       "4595  2014-07-09 00:00:00  3.081667e+05       3.0       1.75         1510   \n",
       "4596  2014-07-09 00:00:00  5.343333e+05       3.0       2.50         1460   \n",
       "4597  2014-07-09 00:00:00  4.169042e+05       3.0       2.50         3010   \n",
       "4598  2014-07-10 00:00:00  2.034000e+05       4.0       2.00         2090   \n",
       "4599  2014-07-10 00:00:00  2.206000e+05       3.0       2.50         1490   \n",
       "\n",
       "      sqft_lot  floors  waterfront  view  condition  sqft_above  \\\n",
       "0         7912     1.5           0     0          3        1340   \n",
       "1         9050     2.0           0     4          5        3370   \n",
       "2        11947     1.0           0     0          4        1930   \n",
       "3         8030     1.0           0     0          4        1000   \n",
       "4        10500     1.0           0     0          4        1140   \n",
       "...        ...     ...         ...   ...        ...         ...   \n",
       "4595      6360     1.0           0     0          4        1510   \n",
       "4596      7573     2.0           0     0          3        1460   \n",
       "4597      7014     2.0           0     0          3        3010   \n",
       "4598      6630     1.0           0     0          3        1070   \n",
       "4599      8102     2.0           0     0          4        1490   \n",
       "\n",
       "      sqft_basement  yr_built  yr_renovated                    street  \\\n",
       "0                 0      1955          2005      18810 Densmore Ave N   \n",
       "1               280      1921             0           709 W Blaine St   \n",
       "2                 0      1966             0  26206-26214 143rd Ave SE   \n",
       "3              1000      1963             0           857 170th Pl NE   \n",
       "4               800      1976          1992         9105 170th Ave NE   \n",
       "...             ...       ...           ...                       ...   \n",
       "4595              0      1954          1979            501 N 143rd St   \n",
       "4596              0      1983          2009          14855 SE 10th Pl   \n",
       "4597              0      2009             0          759 Ilwaco Pl NE   \n",
       "4598           1020      1974             0         5148 S Creston St   \n",
       "4599              0      1990             0         18717 SE 258th St   \n",
       "\n",
       "           city  statezip country  \n",
       "0     Shoreline  WA 98133     USA  \n",
       "1       Seattle  WA 98119     USA  \n",
       "2          Kent  WA 98042     USA  \n",
       "3      Bellevue  WA 98008     USA  \n",
       "4       Redmond  WA 98052     USA  \n",
       "...         ...       ...     ...  \n",
       "4595    Seattle  WA 98133     USA  \n",
       "4596   Bellevue  WA 98007     USA  \n",
       "4597     Renton  WA 98059     USA  \n",
       "4598    Seattle  WA 98178     USA  \n",
       "4599  Covington  WA 98042     USA  \n",
       "\n",
       "[4600 rows x 18 columns]"
      ]
     },
     "execution_count": 4,
     "metadata": {},
     "output_type": "execute_result"
    }
   ],
   "source": [
    "data"
   ]
  },
  {
   "cell_type": "markdown",
   "metadata": {
    "colab_type": "text",
    "id": "qR9y2VSFajg8"
   },
   "source": [
    "# Preprocessing\n",
    "Convert date to int"
   ]
  },
  {
   "cell_type": "code",
   "execution_count": 5,
   "metadata": {
    "colab": {},
    "colab_type": "code",
    "id": "RvXGc9XnY9rT"
   },
   "outputs": [],
   "source": [
    "data['date_int'] = pd.to_datetime(data['date']).dt.strftime(\"%Y%m%d\").astype(int)"
   ]
  },
  {
   "cell_type": "markdown",
   "metadata": {
    "colab_type": "text",
    "id": "q01OIjyfaoVW"
   },
   "source": [
    "Convert cities to one hot"
   ]
  },
  {
   "cell_type": "code",
   "execution_count": 6,
   "metadata": {
    "colab": {},
    "colab_type": "code",
    "id": "G5b7DYU7ZTnI"
   },
   "outputs": [],
   "source": [
    "city = pd.get_dummies(pd.Categorical(data['city']), prefix='city')"
   ]
  },
  {
   "cell_type": "markdown",
   "metadata": {
    "colab_type": "text",
    "id": "k1tk1MMhcl9h"
   },
   "source": [
    "convert observation to numpy"
   ]
  },
  {
   "cell_type": "code",
   "execution_count": 7,
   "metadata": {
    "colab": {},
    "colab_type": "code",
    "id": "CJdGsV7raRFH"
   },
   "outputs": [],
   "source": [
    "X = np.concatenate([data[['date_int', 'bedrooms', 'bathrooms', 'sqft_living', 'sqft_lot', 'floors', 'waterfront', 'view', 'condition', 'sqft_above', 'sqft_basement', 'yr_built', 'yr_renovated']].to_numpy(), city.to_numpy()], axis=1)"
   ]
  },
  {
   "cell_type": "code",
   "execution_count": 8,
   "metadata": {
    "colab": {
     "base_uri": "https://localhost:8080/",
     "height": 35
    },
    "colab_type": "code",
    "id": "GSX25wOebtWc",
    "outputId": "b9032219-4c13-42df-83f4-f0690a9c2e88"
   },
   "outputs": [
    {
     "data": {
      "text/plain": [
       "(4600, 57)"
      ]
     },
     "execution_count": 8,
     "metadata": {},
     "output_type": "execute_result"
    }
   ],
   "source": [
    "X.shape"
   ]
  },
  {
   "cell_type": "markdown",
   "metadata": {
    "colab_type": "text",
    "id": "2CKkLCIxcrZR"
   },
   "source": [
    "convert price to numpy"
   ]
  },
  {
   "cell_type": "code",
   "execution_count": 9,
   "metadata": {
    "colab": {
     "base_uri": "https://localhost:8080/",
     "height": 35
    },
    "colab_type": "code",
    "id": "zkEv119hcKk7",
    "outputId": "e7e566a0-a801-40b3-b832-022a240f28c7"
   },
   "outputs": [
    {
     "data": {
      "text/plain": [
       "(4600,)"
      ]
     },
     "execution_count": 9,
     "metadata": {},
     "output_type": "execute_result"
    }
   ],
   "source": [
    "Y = data['price'].to_numpy()\n",
    "Y.shape"
   ]
  },
  {
   "cell_type": "markdown",
   "metadata": {
    "colab_type": "text",
    "id": "U-6Uf-Pwcy1Y"
   },
   "source": [
    "split train/val/test sets"
   ]
  },
  {
   "cell_type": "code",
   "execution_count": 10,
   "metadata": {
    "colab": {},
    "colab_type": "code",
    "id": "1lDdtL_PcxAr"
   },
   "outputs": [],
   "source": [
    "r = np.random.permutation(len(X))\n",
    "X_train = X[r[0:3500], :]\n",
    "Y_train = Y[r[0:3500]]\n",
    "X_val = X[r[3500:4000], :]\n",
    "Y_val = Y[r[3500:4000]]\n",
    "X_test = X[r[4000:], :]\n",
    "Y_test = Y[r[4000:]]"
   ]
  },
  {
   "cell_type": "code",
   "execution_count": 11,
   "metadata": {},
   "outputs": [
    {
     "data": {
      "image/png": "[encoded data removed]",
      "text/plain": [
       "<Figure size 432x288 with 1 Axes>"
      ]
     },
     "metadata": {
      "needs_background": "light"
     },
     "output_type": "display_data"
    },
    {
     "data": {
      "image/png": "[encoded data removed]",
      "text/plain": [
       "<Figure size 432x288 with 1 Axes>"
      ]
     },
     "metadata": {
      "needs_background": "light"
     },
     "output_type": "display_data"
    }
   ],
   "source": [
    "import matplotlib.pyplot as plt\n",
    "\n",
    "# Generation functions, useful to test algorithms\n",
    "\n",
    "def gen_points(n, mu_1, K_1, mu_2, K_2, visualise = True):\n",
    "    \"\"\" Generates two gaussian clouds of points\"\"\"\n",
    "    X_1 = np.random.multivariate_normal(mu_1, K_1, n_points) # First cloud\n",
    "    Y_1 = np.ones(n)\n",
    "    X_2 = np.random.multivariate_normal(mu_2, K_2, n_points) # Second cloud\n",
    "    Y_2 = - np.ones(n)\n",
    "    X = np.concatenate((X_1, X_2), axis = 0)\n",
    "    Y = np.concatenate((Y_1, Y_2), axis = 0)\n",
    "    r = np.random.permutation(2*n)\n",
    "    X = X[r[0:2*n], :]\n",
    "    Y = Y[r[0:2*n]]\n",
    "    if visualise:\n",
    "        plt.figure(1)\n",
    "        plt.scatter(X_1.T[0], X_1.T[1])\n",
    "        plt.scatter(X_2.T[0], X_2.T[1])\n",
    "        plt.show()\n",
    "    return X_1, Y_1, X_2, Y_2, X, Y\n",
    "\n",
    "\n",
    "mu_1 = (1.5, 1.5)\n",
    "K_1 = np.eye(2)\n",
    "mu_2 = (-1.5, -1.5)\n",
    "K_2 = np.eye(2)\n",
    "n_points = 50\n",
    "\n",
    "X_1, Y_1, X_2, Y_2, X, Y = gen_points(n_points, mu_1, K_1, mu_2, K_2, True)\n",
    "\n",
    "\n",
    "def gen_points_2(n, mu_1, sig_1, mu_2, sig_2, visualise = True):\n",
    "    \"\"\"Generates two rings of points\"\"\"\n",
    "    r_1 = np.random.normal(mu_1, sig_1, n_points)\n",
    "    theta_1 = np.random.uniform(0, 2*np.pi, n_points)\n",
    "    X_1 = np.stack((r_1*np.cos(theta_1), r_1*np.sin(theta_1)), axis = 1) # First ring\n",
    "    Y_1 = np.ones(n)\n",
    "    r_2 = np.random.normal(mu_2, sig_2, n_points)\n",
    "    theta_2 = np.random.uniform(0, 2*np.pi, n_points)\n",
    "    X_2 = np.stack((r_2*np.cos(theta_2), r_2*np.sin(theta_2)), axis = 1) # Second ring\n",
    "    Y_2 = - np.ones(n)\n",
    "    X = np.concatenate((X_1, X_2), axis = 0)\n",
    "    Y = np.concatenate((Y_1, Y_2), axis = 0)\n",
    "    r = np.random.permutation(2*n)\n",
    "    X = X[r[0:2*n], :]\n",
    "    Y = Y[r[0:2*n]]\n",
    "    if visualise:\n",
    "        plt.figure(2)\n",
    "        plt.scatter(X_1.T[0], X_1.T[1])\n",
    "        plt.scatter(X_2.T[0], X_2.T[1])\n",
    "        plt.show()\n",
    "    return X_1, Y_1, X_2, Y_2, X, Y\n",
    "\n",
    "mu_1 = 2\n",
    "sig_1 = 0.5\n",
    "mu_2 = 5\n",
    "sig_2 = 0.5\n",
    "n_points = 50\n",
    "\n",
    "X_1, Y_1, X_2, Y_2, X, Y = gen_points_2(n_points, mu_1, sig_1, mu_2, sig_2, True)"
   ]
  },
  {
   "cell_type": "code",
   "execution_count": 12,
   "metadata": {
    "scrolled": false
   },
   "outputs": [],
   "source": [
    "def add_ones(X):\n",
    "    \"\"\" Adds a column of ones in the beginning of X\"\"\"\n",
    "    new_X = np.array([np.ones(X.shape[0])] + [sample for sample in X.T])\n",
    "    return new_X.T\n",
    "\n",
    "def verify_bool(Y, Y_pred):\n",
    "    \"\"\" Prints the percentage of good\n",
    "    predictions of Y_pred\"\"\"\n",
    "    assert(len(Y) == len(Y_pred))\n",
    "    n = len(Y)\n",
    "    good = 0\n",
    "    for i in range(n):\n",
    "        if Y[i] == Y_pred[i]:\n",
    "            good += 1\n",
    "    print(str(100*good/n) + \" % accuracy\")\n",
    "    \n",
    "class SAGClassifier():\n",
    "    def __init__(self, lamb = 0.001, delta = 0.01):\n",
    "        self.lamb = lamb # Regularization\n",
    "        self.delta = delta # Learning rate\n",
    "        self.w = None # Weights and biais\n",
    "    \n",
    "    def fit(self, X, Y, epochs = 100, Visual = False):\n",
    "\n",
    "        def Loss(w, lamb, X, Y):\n",
    "            n = X.shape[0]\n",
    "            return (1/n) * sum((max(0, 1 - Y[i]*np.dot(w, X[i])) for i in range(n))) + lamb * np.linalg.norm(w)**2\n",
    "\n",
    "        def grad_f(w, x_i, y_i):\n",
    "            if y_i * np.dot(w, x_i) >= 1:\n",
    "                return 0\n",
    "            else:\n",
    "                return -y_i * x_i     \n",
    "            \n",
    "        X_ones = add_ones(X)\n",
    "        n, p = X_ones.shape\n",
    "        d = np.zeros(p)\n",
    "        z = np.zeros((n, p)) # Remembering gradients\n",
    "        self.w = np.zeros(p)\n",
    "        visit = np.zeros(n) # Visited samples\n",
    "        loss_values = []\n",
    "        for k in range(epochs):\n",
    "            i = np.random.randint(0, n)\n",
    "            visit[i] = 1\n",
    "            d = d - z[i] + grad_f(self.w, X_ones[i], Y[i])\n",
    "            z[i] = grad_f(self.w, X_ones[i], Y[i])\n",
    "            m = np.sum(visit)\n",
    "            reg = self.w\n",
    "            reg[0] = 0 # Do not regularize biais\n",
    "            self.w = self.w - self.lamb*self.delta*reg - (self.delta/m) * d\n",
    "            loss_values.append(np.linalg.norm(Loss(self.w, self.lamb, X_ones, Y)))\n",
    "            print('training, iteration: '+str(k+1)+'/'+str(epochs)+'\\r', sep=' ', end='', flush=True)\n",
    "            \n",
    "        if Visual:\n",
    "            it = range(len(loss_values))\n",
    "            plt.figure()\n",
    "            plt.plot(it, loss_values, 'r')\n",
    "            plt.title(\"Loss over epochs\")\n",
    "            plt.show()\n",
    "            \n",
    "    def predict(self, X):\n",
    "        X_ones = add_ones(X)\n",
    "        Y_pred = np.dot(X_ones, self.w)\n",
    "        Y_pred = Y_pred / np.abs(Y_pred)\n",
    "        return Y_pred\n",
    "    \n",
    "    def weights(self):\n",
    "        return self.w"
   ]
  },
  {
   "cell_type": "code",
   "execution_count": 13,
   "metadata": {},
   "outputs": [
    {
     "name": "stdout",
     "output_type": "stream",
     "text": [
      "training, iteration: 50/50\r"
     ]
    },
    {
     "data": {
      "image/png": "[encoded data removed]",
      "text/plain": [
       "<Figure size 432x288 with 1 Axes>"
      ]
     },
     "metadata": {
      "needs_background": "light"
     },
     "output_type": "display_data"
    },
    {
     "name": "stdout",
     "output_type": "stream",
     "text": [
      "100.0 % accuracy\n"
     ]
    },
    {
     "data": {
      "image/png": "[encoded data removed]",
      "text/plain": [
       "<Figure size 432x288 with 1 Axes>"
      ]
     },
     "metadata": {
      "needs_background": "light"
     },
     "output_type": "display_data"
    }
   ],
   "source": [
    "# Parameters for 2D classification\n",
    "mu_1 = (1.5, 1.5)\n",
    "K_1 = np.eye(2)\n",
    "mu_2 = (-1.5, -1.5)\n",
    "K_2 = np.eye(2)\n",
    "n_points = 100\n",
    "\n",
    "X1t, Y1t, X2t, Y2t, Xt, Yt = gen_points(n_points, mu_1, K_1, mu_2, K_2, False) # Training dataset\n",
    "X1v, Y1v, X2v, Y2v, Xv, Yv = gen_points(n_points, mu_1, K_1, mu_2, K_2, False) # Validation dataset\n",
    "\n",
    "\n",
    "sag = SAGClassifier(lamb = 1, delta = 0.005)\n",
    "sag.fit(Xt, Yt, epochs = 50, Visual = True)\n",
    "Y_pred = sag.predict(Xv)\n",
    "verify_bool(Yv, Y_pred)\n",
    "\n",
    "def show2DLinear(w, X_1, X_2):\n",
    "    \"\"\" Shows the carthesian line\n",
    "    with coefficients w\"\"\"\n",
    "    b, w_1, w_2 = w\n",
    "    x_min = min(np.min(X_1.T[0]), np.min(X_2.T[0]))\n",
    "    x_max = max(np.max(X_1.T[0]), np.max(X_2.T[0]))\n",
    "    x_values = np.linspace(x_min, x_max, 100)\n",
    "    y_values = [-(w_1/w_2)*x - b/w_2 for x in x_values]\n",
    "    plt.figure(1)\n",
    "    plt.scatter(X_1.T[0], X_1.T[1])\n",
    "    plt.scatter(X_2.T[0], X_2.T[1])\n",
    "    plt.plot(x_values, y_values, 'k')\n",
    "    plt.title(\"Hyperplane used to classify\")\n",
    "    plt.show()\n",
    "\n",
    "w = sag.weights()\n",
    "show2DLinear(w, X1v, X2v)"
   ]
  },
  {
   "cell_type": "code",
   "execution_count": 14,
   "metadata": {},
   "outputs": [],
   "source": [
    "def accuracy(Y_pred, Y):\n",
    "    \"\"\"Measures accuracy of a\n",
    "    regression prediction\"\"\"\n",
    "    error = np.abs(Y_pred - Y)\n",
    "    print(str(100*np.mean(error)/np.mean(Y)) + \" % experimental error\") # Mean experimental error  \n",
    "\n",
    "class SAGRegressor():\n",
    "    def __init__(self, lamb = 0.001, delta = 0.01):\n",
    "        self.lamb = lamb # Regularization\n",
    "        self.delta = delta # Learning rate\n",
    "        self.w = None # Weights and biais\n",
    "    \n",
    "    def fit(self, X, Y, epochs = 100, Visual = False):\n",
    "\n",
    "        def Loss(w, lamb, X, Y):\n",
    "            n = X.shape[0]\n",
    "            return (1/n) * sum(((Y[i] - np.dot(w, X[i]))**2 for i in range(n))) + lamb * np.linalg.norm(w)**2\n",
    "\n",
    "        def grad_f(w, x_i, y_i):\n",
    "            return -2*x_i*(y_i - np.dot(w, x_i))\n",
    "            \n",
    "        X_ones = add_ones(X)\n",
    "        n, p = X_ones.shape\n",
    "        d = np.zeros(p)\n",
    "        z = np.zeros((n, p)) # Remembering gradients\n",
    "        self.w = np.zeros(p)\n",
    "        visit = np.zeros(n) # Visited samples\n",
    "        loss_values = []\n",
    "        for k in range(epochs):\n",
    "            i = np.random.randint(0, n)\n",
    "            visit[i] = 1\n",
    "            d = d - z[i] + grad_f(self.w, X_ones[i], Y[i])\n",
    "            z[i] = grad_f(self.w, X_ones[i], Y[i])\n",
    "            m = np.sum(visit)\n",
    "            reg = self.w\n",
    "            reg[0] = 0\n",
    "            self.w = self.w - self.lamb*self.delta*reg - (self.delta/m) * d\n",
    "            loss_values.append(np.linalg.norm(Loss(self.w, self.lamb, X_ones, Y)))\n",
    "            print('training, iteration: '+str(k+1)+'/'+str(epochs)+'\\r', sep=' ', end='', flush=True)\n",
    "            \n",
    "        if Visual:\n",
    "            it = range(len(loss_values))\n",
    "            plt.figure()\n",
    "            plt.plot(it, loss_values, 'r')\n",
    "            plt.title(\"Loss over epochs\")\n",
    "            plt.show()\n",
    "            \n",
    "    def predict(self, X):\n",
    "        X_ones = add_ones(X)\n",
    "        Y_pred = np.dot(X_ones, self.w)\n",
    "        return Y_pred\n",
    "    \n",
    "    def weights(self):\n",
    "        return self.w"
   ]
  },
  {
   "cell_type": "code",
   "execution_count": 15,
   "metadata": {},
   "outputs": [
    {
     "name": "stdout",
     "output_type": "stream",
     "text": [
      "training, iteration: 50/50\r"
     ]
    },
    {
     "data": {
      "image/png": "[encoded data removed]",
      "text/plain": [
       "<Figure size 432x288 with 1 Axes>"
      ]
     },
     "metadata": {
      "needs_background": "light"
     },
     "output_type": "display_data"
    },
    {
     "data": {
      "image/png": "[encoded data removed]",
      "text/plain": [
       "<Figure size 432x288 with 1 Axes>"
      ]
     },
     "metadata": {
      "needs_background": "light"
     },
     "output_type": "display_data"
    }
   ],
   "source": [
    "def f(x): # Function to regress\n",
    "    return np.exp(x**2) - np.exp((x-1)**2)\n",
    "\n",
    "n_points = 100\n",
    "X = np.array(np.linspace(-1, 2, n_points))\n",
    "X.shape = (n_points, 1)\n",
    "Y = f(X)\n",
    "\n",
    "sag = SAGRegressor(lamb = 1, delta = 0.005)\n",
    "sag.fit(X, Y, epochs = 50, Visual = True)\n",
    "Y_pred = sag.predict(X)\n",
    "\n",
    "plt.figure()\n",
    "plt.plot(X, Y)\n",
    "plt.plot(X, Y_pred)\n",
    "plt.title(\"Original function and linear prediction\")\n",
    "plt.show()"
   ]
  },
  {
   "cell_type": "code",
   "execution_count": 16,
   "metadata": {},
   "outputs": [],
   "source": [
    "class SDCAClassifier():\n",
    "    def __init__(self, kernel, param, C = 10):\n",
    "        self.kernel = kernel\n",
    "        self.param = param\n",
    "        self.C = C\n",
    "        self.X = None\n",
    "        self.Y = None\n",
    "        self.alpha = None\n",
    "        \n",
    "    def fit(self, X, Y, epochs = 10, Visual = False):\n",
    "        \n",
    "        def dual_Loss(alpha, X, Y, k):\n",
    "            n = X.shape[0]\n",
    "            return sum(alpha) - (1/2)*sum([alpha[i]*alpha[j]*Y[i]*Y[j]*k(X[i], X[j], self.param) for i in range(n) for j in range(n)])\n",
    "        \n",
    "        X_ones = add_ones(X)\n",
    "        n, p = X_ones.shape\n",
    "        self.alpha = np.zeros(n)\n",
    "        self.Y = Y\n",
    "        self.X = X_ones\n",
    "        loss_values = []\n",
    "        for k in range(epochs):\n",
    "            perm = np.random.permutation(n)\n",
    "            for i in perm:\n",
    "                z_i = Y[i] * sum([self.alpha[j]*Y[j]*self.kernel(X_ones[i], X_ones[j], self.param) for j in range(n)])\n",
    "                self.alpha[i] = self.alpha[i] + (1 - z_i) / self.kernel(X_ones[i], X_ones[i], self.param)\n",
    "                self.alpha[i] = max(0, min(self.C, self.alpha[i]))\n",
    "                print('training, iteration: '+str(k+1)+'/'+str(epochs)+'\\r', sep=' ', end='', flush=True)\n",
    "                if Visual:\n",
    "                    loss_values.append(dual_Loss(self.alpha, X_ones, Y, self.kernel))\n",
    "        print('\\n')\n",
    "        if Visual:\n",
    "            it = range(len(loss_values))\n",
    "            plt.figure()\n",
    "            plt.plot(it, loss_values, 'r')\n",
    "            plt.title(\"Loss over epochs\")\n",
    "            plt.show()\n",
    "            \n",
    "    def predict(self, X):\n",
    "        X_ones = add_ones(X)\n",
    "        n = self.X.shape[0]\n",
    "        m = X_ones.shape[0]\n",
    "        Y_pred = np.array([sum([self.alpha[i]*self.Y[i]*self.kernel(self.X[i], X_ones[j], self.param) for i in range(n)]) for j in range(m)])\n",
    "        Y_pred = Y_pred / np.abs(Y_pred) # To return only -1 or 1\n",
    "        return Y_pred\n",
    "    \n",
    "    def weights(self):\n",
    "        return self.alpha"
   ]
  },
  {
   "cell_type": "code",
   "execution_count": 17,
   "metadata": {},
   "outputs": [
    {
     "name": "stdout",
     "output_type": "stream",
     "text": [
      "training, iteration: 10/10\n",
      "\n",
      "93.5 % accuracy\n"
     ]
    },
    {
     "data": {
      "image/png": "[encoded data removed]",
      "text/plain": [
       "<Figure size 432x288 with 1 Axes>"
      ]
     },
     "metadata": {
      "needs_background": "light"
     },
     "output_type": "display_data"
    }
   ],
   "source": [
    "def poly_kernel(x1, x2, param):\n",
    "    return np.dot(x1, x2)**param\n",
    "\n",
    "def gauss_kernel(x1, x2, param):\n",
    "    return np.exp(- param * np.linalg.norm(x1 - x2)**2)\n",
    "\n",
    "# Parameters for 2D classification\n",
    "\n",
    "mu_1 = 2\n",
    "sig_1 = 0.5\n",
    "mu_2 = 4\n",
    "sig_2 = 0.5\n",
    "n_points = 100\n",
    "\n",
    "X1t, Y1t, X2t, Y2t, Xt, Yt = gen_points_2(n_points, mu_1, sig_1, mu_2, sig_2, False) # Training data set\n",
    "X1v, Y1v, X2v, Y2v, Xv, Yv = gen_points_2(n_points, mu_1, sig_1, mu_2, sig_2, False) # Validation data set\n",
    "\n",
    "\n",
    "sdca = SDCAClassifier(gauss_kernel, param = 2, C = 10)\n",
    "sdca.fit(Xt, Yt, epochs = 10, Visual = False) # Computing loss function takes too much time here\n",
    "alpha = sdca.weights()\n",
    "Y_pred = sdca.predict(Xv)\n",
    "verify_bool(Yv, Y_pred)\n",
    "\n",
    "def show_hyperplane(X_1, X_2, X, Y, alpha, ker, param, m):\n",
    "    \"\"\"Shows the hyperplane the algorithm uses to\n",
    "    predict\"\"\"\n",
    "    X_ones = add_ones(X)\n",
    "    X_12 = np.concatenate((X_1, X_2), axis = 0)\n",
    "    \n",
    "    # Retrieving dimensions\n",
    "    \n",
    "    x_min = int((3/2)*np.min(X_12.T[0]))\n",
    "    x_max = int((3/2)*np.max(X_12.T[0]))\n",
    "    y_min = int((3/2)*np.min(X_12.T[1]))\n",
    "    y_max = int((3/2)*np.max(X_12.T[1]))\n",
    "    \n",
    "    def pred(x,y): # Prediction at the point (x,y) on the plane\n",
    "        n = X_ones.shape[0]\n",
    "        return sum([alpha[i]*Y[i]*ker(X_ones[i], np.array([1, x, y]), param) for i in range(n)])\n",
    "    \n",
    "    x_val = np.linspace(x_min, x_max, m)\n",
    "    y_val = np.linspace(y_min, y_max, m)\n",
    "    z_val = np.array([[pred(x,y) for x in x_val] for y in y_val])\n",
    "    \n",
    "    plt.figure(4)\n",
    "    plt.scatter(X_1.T[0], X_1.T[1])\n",
    "    plt.scatter(X_2.T[0], X_2.T[1]) \n",
    "    plt.contour(x_val, y_val, z_val, [0]) # Points where prediction fonction returns 0\n",
    "    plt.title(\"Hyperplane used to classify\")\n",
    "    plt.show()\n",
    "    \n",
    "show_hyperplane(X1v, X2v, Xt, Yt, alpha, gauss_kernel, 2, 35)"
   ]
  },
  {
   "cell_type": "code",
   "execution_count": 18,
   "metadata": {},
   "outputs": [],
   "source": [
    "class SDCARegressor():\n",
    "    def __init__(self, kernel, param, C = 10):\n",
    "        self.kernel = kernel\n",
    "        self.param = param\n",
    "        self.C = C\n",
    "        self.X = None\n",
    "        self.Y = None\n",
    "        self.alpha = None\n",
    "        \n",
    "    def fit(self, X, Y, epochs = 100, Visual = False):\n",
    "        \n",
    "        def dual_Loss(alpha, X, Y, k):\n",
    "            n = X.shape[0]\n",
    "            return sum([alpha[i]*Y[i] - (alpha[i]**2)/4 for i in range(n)]) - (1/(2*self.C))*sum([alpha[i]*alpha[j]*k(X[i], X[j], self.param) for i in range(n) for j in range(n)])\n",
    "        \n",
    "        X_ones = add_ones(X)\n",
    "        n, p = X_ones.shape\n",
    "        self.alpha = np.zeros(n)\n",
    "        self.Y = Y\n",
    "        self.X = X_ones\n",
    "        loss_values = []\n",
    "        for k in range(epochs):\n",
    "            perm = np.random.permutation(n)\n",
    "            for i in perm:\n",
    "                delta_i = (self.Y[i] - sum([self.alpha[j]*self.kernel(self.X[i], self.X[j], self.param) for j in range(n)]) - (1/2)*self.alpha[i])/((1/2) + self.kernel(self.X[i], self.X[i], self.param)/self.C)\n",
    "                self.alpha[i] = self.alpha[i] + delta_i\n",
    "                print('training, iteration: '+str(k+1)+'/'+str(epochs)+'\\r', sep=' ', end='', flush=True)\n",
    "                if Visual:\n",
    "                    loss_values.append(dual_Loss(self.alpha, X_ones, Y, self.kernel))\n",
    "            \n",
    "        if Visual:\n",
    "            it = range(len(loss_values))\n",
    "            plt.figure()\n",
    "            plt.plot(it, loss_values, 'r')\n",
    "            plt.title(\"Loss over epochs\")\n",
    "            plt.show()\n",
    "            \n",
    "    def predict(self, X):\n",
    "        X_ones = add_ones(X)\n",
    "        n = self.X.shape[0]\n",
    "        m = X_ones.shape[0]\n",
    "        Y_pred = np.array([sum([(1/self.C)*self.alpha[i]*self.kernel(self.X[i], X_ones[j], self.param) for i in range(n)]) for j in range(m)])\n",
    "        return Y_pred\n",
    "    \n",
    "    def weights(self):\n",
    "        return self.alpha"
   ]
  },
  {
   "cell_type": "code",
   "execution_count": 19,
   "metadata": {},
   "outputs": [
    {
     "name": "stdout",
     "output_type": "stream",
     "text": [
      "training, iteration: 5/5\r"
     ]
    },
    {
     "data": {
      "image/png": "[encoded data removed]",
      "text/plain": [
       "<Figure size 432x288 with 1 Axes>"
      ]
     },
     "metadata": {
      "needs_background": "light"
     },
     "output_type": "display_data"
    },
    {
     "data": {
      "image/png": "[encoded data removed]",
      "text/plain": [
       "<Figure size 432x288 with 1 Axes>"
      ]
     },
     "metadata": {
      "needs_background": "light"
     },
     "output_type": "display_data"
    }
   ],
   "source": [
    "def f(x): # Function to regress\n",
    "    return np.exp(x**2) - np.exp((x-1)**2)\n",
    "\n",
    "n_points = 50\n",
    "X = np.array(np.linspace(-1, 2, n_points))\n",
    "X.shape = (n_points, 1)\n",
    "Y = f(X)\n",
    "\n",
    "sdca = SDCARegressor(gauss_kernel, param = 10, C = 1)\n",
    "sdca.fit(X, Y, epochs = 5, Visual = True)\n",
    "Y_pred = sdca.predict(X)\n",
    "\n",
    "plt.figure()\n",
    "plt.plot(X, Y)\n",
    "plt.plot(X, Y_pred)\n",
    "plt.title(\"Original function and prediction using kernel\")\n",
    "plt.show()"
   ]
  },
  {
   "cell_type": "code",
   "execution_count": 20,
   "metadata": {
    "scrolled": false
   },
   "outputs": [
    {
     "name": "stdout",
     "output_type": "stream",
     "text": [
      "training, iteration: 100/100\r"
     ]
    },
    {
     "data": {
      "image/png": "[encoded data removed]",
      "text/plain": [
       "<Figure size 432x288 with 1 Axes>"
      ]
     },
     "metadata": {
      "needs_background": "light"
     },
     "output_type": "display_data"
    },
    {
     "name": "stdout",
     "output_type": "stream",
     "text": [
      "49.6 % accuracy\n"
     ]
    }
   ],
   "source": [
    "# Testing SAGClassifier on house data\n",
    "\n",
    "med_price = np.median(Y_train)\n",
    "n_points = 100\n",
    "Y_train_bool = 2*(Y_train > med_price).astype(int)-1\n",
    "Y_val_bool = 2*(Y_val > med_price).astype(int)-1\n",
    "\n",
    "# Raw data\n",
    "\n",
    "sag = SAGClassifier(lamb = 1, delta = 1)\n",
    "sag.fit(X_train, Y_train_bool, epochs = 100, Visual = True)\n",
    "Y_pred = sag.predict(X_val)\n",
    "verify_bool(Y_val_bool, Y_pred)"
   ]
  },
  {
   "cell_type": "code",
   "execution_count": 21,
   "metadata": {},
   "outputs": [],
   "source": [
    "from tools import standardize, normalize, pca"
   ]
  },
  {
   "cell_type": "code",
   "execution_count": 22,
   "metadata": {},
   "outputs": [
    {
     "name": "stdout",
     "output_type": "stream",
     "text": [
      "training, iteration: 100/100\r"
     ]
    },
    {
     "data": {
      "image/png": "[encoded data removed]",
      "text/plain": [
       "<Figure size 432x288 with 1 Axes>"
      ]
     },
     "metadata": {
      "needs_background": "light"
     },
     "output_type": "display_data"
    },
    {
     "name": "stdout",
     "output_type": "stream",
     "text": [
      "74.6 % accuracy\n"
     ]
    }
   ],
   "source": [
    "# Standardized data\n",
    "\n",
    "X_train_s = standardize(X_train)\n",
    "X_val_s = standardize(X_val)\n",
    "\n",
    "sag = SAGClassifier(lamb = 0.01, delta = 0.01)\n",
    "sag.fit(X_train_s, Y_train_bool, epochs = 100, Visual = True)\n",
    "Y_pred = sag.predict(X_val_s)\n",
    "verify_bool(Y_val_bool, Y_pred)"
   ]
  },
  {
   "cell_type": "code",
   "execution_count": 23,
   "metadata": {},
   "outputs": [
    {
     "name": "stdout",
     "output_type": "stream",
     "text": [
      "training, iteration: 100/100\r"
     ]
    },
    {
     "data": {
      "image/png": "[encoded data removed]",
      "text/plain": [
       "<Figure size 432x288 with 1 Axes>"
      ]
     },
     "metadata": {
      "needs_background": "light"
     },
     "output_type": "display_data"
    },
    {
     "name": "stdout",
     "output_type": "stream",
     "text": [
      "64.8 % accuracy\n"
     ]
    }
   ],
   "source": [
    "# Normalized data\n",
    "\n",
    "X_train_n = normalize(X_train)\n",
    "X_val_n = normalize(X_val)\n",
    "\n",
    "sag = SAGClassifier(lamb = 0.01, delta = 0.1)\n",
    "sag.fit(X_train_n, Y_train_bool, epochs = 100, Visual = True)\n",
    "Y_pred = sag.predict(X_val_n)\n",
    "verify_bool(Y_val_bool, Y_pred)"
   ]
  },
  {
   "cell_type": "code",
   "execution_count": 24,
   "metadata": {},
   "outputs": [
    {
     "name": "stdout",
     "output_type": "stream",
     "text": [
      "training, iteration: 100/100\r"
     ]
    },
    {
     "data": {
      "image/png": "[encoded data removed]",
      "text/plain": [
       "<Figure size 432x288 with 1 Axes>"
      ]
     },
     "metadata": {
      "needs_background": "light"
     },
     "output_type": "display_data"
    },
    {
     "name": "stdout",
     "output_type": "stream",
     "text": [
      "57.0 % accuracy\n"
     ]
    }
   ],
   "source": [
    "# Standardized and orthogonalized data\n",
    "\n",
    "n_comp = 45\n",
    "X_train_pca = pca(standardize(X_train), n_comp)\n",
    "X_val_pca = pca(standardize(X_val), n_comp)\n",
    "\n",
    "sag = SAGClassifier(lamb = 0.01, delta = 0.01)\n",
    "sag.fit(X_train_pca, Y_train_bool, epochs = 100, Visual = True)\n",
    "Y_pred = sag.predict(X_val_pca)\n",
    "verify_bool(Y_val_bool, Y_pred)"
   ]
  },
  {
   "cell_type": "markdown",
   "metadata": {},
   "source": [
    "Même en optimisant les paramètres, les résultats avec les données brutes sont très mauvais. On obtient des résultats bons, comparables au kNN ou à la régression logistique avec des données simplement standardisées."
   ]
  },
  {
   "cell_type": "code",
   "execution_count": 25,
   "metadata": {
    "scrolled": true
   },
   "outputs": [
    {
     "name": "stdout",
     "output_type": "stream",
     "text": [
      "training, iteration: 150/150\r"
     ]
    },
    {
     "data": {
      "image/png": "[encoded data removed]",
      "text/plain": [
       "<Figure size 432x288 with 1 Axes>"
      ]
     },
     "metadata": {
      "needs_background": "light"
     },
     "output_type": "display_data"
    },
    {
     "name": "stdout",
     "output_type": "stream",
     "text": [
      "49.02383417211681 % experimental error\n"
     ]
    }
   ],
   "source": [
    "# Testing SAGRegressor\n",
    "\n",
    "# Raw data\n",
    "\n",
    "sag = SAGRegressor(lamb = 1e-13, delta = 1e-17)\n",
    "sag.fit(X_train, Y_train, epochs = 150, Visual = True)\n",
    "Y_pred = sag.predict(X_val)\n",
    "accuracy(Y_val, Y_pred)"
   ]
  },
  {
   "cell_type": "code",
   "execution_count": 26,
   "metadata": {},
   "outputs": [
    {
     "name": "stdout",
     "output_type": "stream",
     "text": [
      "training, iteration: 30/30\r"
     ]
    },
    {
     "data": {
      "image/png": "[encoded data removed]",
      "text/plain": [
       "<Figure size 432x288 with 1 Axes>"
      ]
     },
     "metadata": {
      "needs_background": "light"
     },
     "output_type": "display_data"
    },
    {
     "name": "stdout",
     "output_type": "stream",
     "text": [
      "8769.13418986383 % experimental error\n"
     ]
    }
   ],
   "source": [
    "# Standardized data\n",
    "\n",
    "X_train_s = standardize(X_train)\n",
    "X_val_s = standardize(X_val)\n",
    "\n",
    "sag = SAGRegressor(lamb = 1e-1, delta = 1e-2)\n",
    "sag.fit(X_train_s, Y_train, epochs = 30, Visual = True)\n",
    "Y_pred = sag.predict(X_val_s)\n",
    "accuracy(Y_val, Y_pred)"
   ]
  },
  {
   "cell_type": "code",
   "execution_count": 27,
   "metadata": {},
   "outputs": [
    {
     "name": "stdout",
     "output_type": "stream",
     "text": [
      "training, iteration: 75/75\r"
     ]
    },
    {
     "data": {
      "image/png": "[encoded data removed]",
      "text/plain": [
       "<Figure size 432x288 with 1 Axes>"
      ]
     },
     "metadata": {
      "needs_background": "light"
     },
     "output_type": "display_data"
    },
    {
     "name": "stdout",
     "output_type": "stream",
     "text": [
      "36.191437623237384 % experimental error\n"
     ]
    }
   ],
   "source": [
    "# Normalized data\n",
    "\n",
    "X_train_n = normalize(X_train)\n",
    "X_val_n = normalize(X_val)\n",
    "\n",
    "sag = SAGRegressor(lamb = 1e-1, delta = 5e-2)\n",
    "sag.fit(X_train_n, Y_train, epochs = 75, Visual = True)\n",
    "Y_pred = sag.predict(X_val_n)\n",
    "accuracy(Y_val, Y_pred)"
   ]
  },
  {
   "cell_type": "code",
   "execution_count": 28,
   "metadata": {},
   "outputs": [
    {
     "name": "stdout",
     "output_type": "stream",
     "text": [
      "training, iteration: 75/75\r"
     ]
    },
    {
     "data": {
      "image/png": "[encoded data removed]",
      "text/plain": [
       "<Figure size 432x288 with 1 Axes>"
      ]
     },
     "metadata": {
      "needs_background": "light"
     },
     "output_type": "display_data"
    },
    {
     "name": "stdout",
     "output_type": "stream",
     "text": [
      "7733.054299357801 % experimental error\n"
     ]
    }
   ],
   "source": [
    "# Standardized and orthogonalized data\n",
    "\n",
    "n_comp = 45\n",
    "X_train_pca = pca(standardize(X_train), n_comp)\n",
    "X_val_pca = pca(standardize(X_val), n_comp)\n",
    "\n",
    "sag = SAGRegressor(lamb = 1e-3, delta = 1e-2)\n",
    "sag.fit(X_train_pca, Y_train, epochs = 75, Visual = True)\n",
    "Y_pred = sag.predict(X_val_pca)\n",
    "accuracy(Y_val, Y_pred)"
   ]
  },
  {
   "cell_type": "markdown",
   "metadata": {},
   "source": [
    "Ici, il est impossible d'obtenir des résultats cohérents avec des données standardisées. On obtient des résultats assez peu convaincants avec des données brutes ou des données normalisées."
   ]
  },
  {
   "cell_type": "code",
   "execution_count": 29,
   "metadata": {},
   "outputs": [
    {
     "name": "stdout",
     "output_type": "stream",
     "text": [
      "training, iteration: 10/10\n",
      "\n",
      "0.0 % accuracy\n"
     ]
    },
    {
     "name": "stderr",
     "output_type": "stream",
     "text": [
      "/home/zelire/.local/lib/python3.6/site-packages/ipykernel_launcher.py:44: RuntimeWarning: invalid value encountered in true_divide\n"
     ]
    }
   ],
   "source": [
    "# Testing SDCAClassifier on house prices\n",
    "\n",
    "med_price = np.median(Y_train)\n",
    "n_points = 400\n",
    "Y_train_bool = 2*(Y_train > med_price).astype(int)-1\n",
    "Y_val_bool = 2*(Y_val > med_price).astype(int)-1\n",
    "\n",
    "n_points = 100\n",
    "X_train2 = X_train[:n_points] # Subsampling to avoid long execution time\n",
    "Y_train2 = Y_train[:n_points]\n",
    "\n",
    "med_price = np.median(Y_train2)\n",
    "n_points = 100\n",
    "Y_train_bool = 2*(Y_train2 > med_price).astype(int)-1\n",
    "Y_val_bool = 2*(Y_val > med_price).astype(int)-1\n",
    "\n",
    "# Raw data\n",
    "\n",
    "sdca = SDCAClassifier(gauss_kernel, param = 5, C = 1)\n",
    "sdca.fit(X_train2, Y_train_bool, epochs = 10, Visual = False) # Computing loss takes a lot of time\n",
    "Y_pred = sdca.predict(X_val)\n",
    "verify_bool(Y_val_bool, Y_pred)"
   ]
  },
  {
   "cell_type": "code",
   "execution_count": 30,
   "metadata": {},
   "outputs": [
    {
     "name": "stdout",
     "output_type": "stream",
     "text": [
      "training, iteration: 10/10\n",
      "\n",
      "63.2 % accuracy\n"
     ]
    },
    {
     "name": "stderr",
     "output_type": "stream",
     "text": [
      "/home/zelire/.local/lib/python3.6/site-packages/ipykernel_launcher.py:44: RuntimeWarning: invalid value encountered in true_divide\n"
     ]
    }
   ],
   "source": [
    "# Standardized data\n",
    "\n",
    "X_train_s = standardize(X_train2)\n",
    "X_val_s = standardize(X_val)\n",
    "\n",
    "sdca = SDCAClassifier(gauss_kernel, param = 5, C = 1)\n",
    "sdca.fit(X_train_s, Y_train_bool, epochs = 10, Visual = False) # Computing loss takes a lot of time\n",
    "Y_pred = sdca.predict(X_val_s)\n",
    "verify_bool(Y_val_bool, Y_pred)"
   ]
  },
  {
   "cell_type": "code",
   "execution_count": 31,
   "metadata": {},
   "outputs": [
    {
     "name": "stdout",
     "output_type": "stream",
     "text": [
      "training, iteration: 10/10\n",
      "\n",
      "65.4 % accuracy\n"
     ]
    }
   ],
   "source": [
    "# Normalized data\n",
    "\n",
    "X_train_n = normalize(X_train2)\n",
    "X_val_n = normalize(X_val)\n",
    "\n",
    "sdca = SDCAClassifier(gauss_kernel, param = 5, C = 1)\n",
    "sdca.fit(X_train_n, Y_train_bool, epochs = 10, Visual = False) # Computing loss takes a lot of time\n",
    "Y_pred = sdca.predict(X_val_n)\n",
    "verify_bool(Y_val_bool, Y_pred)"
   ]
  },
  {
   "cell_type": "code",
   "execution_count": 32,
   "metadata": {},
   "outputs": [
    {
     "name": "stdout",
     "output_type": "stream",
     "text": [
      "training, iteration: 10/10\n",
      "\n",
      "41.6 % accuracy\n"
     ]
    },
    {
     "name": "stderr",
     "output_type": "stream",
     "text": [
      "/home/zelire/.local/lib/python3.6/site-packages/ipykernel_launcher.py:44: RuntimeWarning: invalid value encountered in true_divide\n"
     ]
    }
   ],
   "source": [
    "# Standardized and orthogonalized data\n",
    "\n",
    "n_comp = 40\n",
    "X_train_pca = pca(standardize(X_train2), n_comp)\n",
    "X_val_pca = pca(standardize(X_val), n_comp)\n",
    "\n",
    "sdca = SDCAClassifier(gauss_kernel, param = 5, C = 1)\n",
    "sdca.fit(X_train_pca, Y_train_bool, epochs = 10, Visual = False) # Computing loss takes a lot of time\n",
    "Y_pred = sdca.predict(X_val_pca)\n",
    "verify_bool(Y_val_bool, Y_pred)"
   ]
  },
  {
   "cell_type": "markdown",
   "metadata": {},
   "source": [
    "Les résultats ici sont assez médiocres, en particulier pour les données brutes et les données standardisées et orthogonalisées. Il faut cependant prendre en compte le fait que nous avons effectué l'apprentissage sur un sous-échantillon pour réduire le temps de calcul."
   ]
  },
  {
   "cell_type": "code",
   "execution_count": 33,
   "metadata": {},
   "outputs": [
    {
     "name": "stdout",
     "output_type": "stream",
     "text": [
      "834300394.173983 % experimental error\n"
     ]
    }
   ],
   "source": [
    "# Testing SDCARegressor on house prices\n",
    "\n",
    "n_points = 100\n",
    "X_train2 = X_train[:n_points] # Subsampling to avoid long execution time\n",
    "Y_train2 = Y_train[:n_points]\n",
    "\n",
    "# Raw data\n",
    "\n",
    "sdca = SDCARegressor(gauss_kernel, param = 0.01, C = 1)\n",
    "sdca.fit(X_train2, Y_train, epochs = 5, Visual = False) # Computing loss takes a lot of time\n",
    "Y_pred = sdca.predict(X_val)\n",
    "accuracy(Y_val, Y_pred)"
   ]
  },
  {
   "cell_type": "code",
   "execution_count": 34,
   "metadata": {},
   "outputs": [
    {
     "name": "stdout",
     "output_type": "stream",
     "text": [
      "32.72814408761322 % experimental error\n"
     ]
    }
   ],
   "source": [
    "# Standardized data\n",
    "\n",
    "X_train_s = standardize(X_train2)\n",
    "X_val_s = standardize(X_val)\n",
    "                      \n",
    "sdca = SDCARegressor(gauss_kernel, param = 0.01, C = 1)\n",
    "sdca.fit(X_train_s, Y_train, epochs = 10, Visual = False) # Computing loss takes a lot of time\n",
    "Y_pred = sdca.predict(X_val_s)\n",
    "accuracy(Y_val, Y_pred)                      "
   ]
  },
  {
   "cell_type": "code",
   "execution_count": 35,
   "metadata": {},
   "outputs": [
    {
     "name": "stdout",
     "output_type": "stream",
     "text": [
      "33.80424840365594 % experimental error\n"
     ]
    }
   ],
   "source": [
    "# Normalized data\n",
    "\n",
    "X_train_n = normalize(X_train2)\n",
    "X_val_n = normalize(X_val)\n",
    "\n",
    "sdca = SDCARegressor(gauss_kernel, param = 0.01, C = 1)\n",
    "sdca.fit(X_train_n, Y_train, epochs = 10, Visual = False) # Computing loss takes a lot of time\n",
    "Y_pred = sdca.predict(X_val_n)\n",
    "accuracy(Y_val, Y_pred) "
   ]
  },
  {
   "cell_type": "code",
   "execution_count": 36,
   "metadata": {},
   "outputs": [
    {
     "name": "stdout",
     "output_type": "stream",
     "text": [
      "73.47152042113738 % experimental error\n"
     ]
    }
   ],
   "source": [
    "# Standardized and orthogonalized data\n",
    "\n",
    "n_comp = 40\n",
    "X_train_pca = pca(standardize(X_train2), n_comp)\n",
    "X_val_pca = pca(standardize(X_val), n_comp)\n",
    "\n",
    "sdca = SDCARegressor(gauss_kernel, param = 0.01, C = 1)\n",
    "sdca.fit(X_train_pca, Y_train, epochs = 10, Visual = False) # Computing loss takes a lot of time\n",
    "Y_pred = sdca.predict(X_val_pca)\n",
    "accuracy(Y_val, Y_pred) "
   ]
  },
  {
   "cell_type": "markdown",
   "metadata": {},
   "source": [
    "On voit ici un véritable bénéfice à ajouter un noyau à notre svm. On obtient en effet des résultats sur la régression bien meilleurs (au moins pour les données standardisées ou normalisées), malgré la réduction de l'ensemble d'entrainement."
   ]
  }
 ],
 "metadata": {
  "colab": {
   "collapsed_sections": [],
   "name": "house_price_regression.ipynb",
   "provenance": []
  },
  "kernelspec": {
   "display_name": "Python 3",
   "language": "python",
   "name": "python3"
  },
  "language_info": {
   "codemirror_mode": {
    "name": "ipython",
    "version": 3
   },
   "file_extension": ".py",
   "mimetype": "text/x-python",
   "name": "python",
   "nbconvert_exporter": "python",
   "pygments_lexer": "ipython3",
   "version": "3.6.9"
  }
 },
 "nbformat": 4,
 "nbformat_minor": 1
}
