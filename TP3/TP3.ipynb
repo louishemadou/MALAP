{
 "cells": [
  {
   "cell_type": "markdown",
   "metadata": {},
   "source": [
    "## TP Neural Networks - Louis Hémadou"
   ]
  },
  {
   "cell_type": "markdown",
   "metadata": {},
   "source": [
    "The architecture of this code is freely inspired from the torch and pytorch architectures, and some sample of code are re-used. It is however designed to be as concise as possible, not in any case for efficiency or flexibility (i.e. if you ever want to do Deep Learning out of this class, don't try to adapt this code, use an existing framework)"
   ]
  },
  {
   "cell_type": "markdown",
   "metadata": {},
   "source": [
    "## 0. A simple MLP implementation"
   ]
  },
  {
   "cell_type": "markdown",
   "metadata": {},
   "source": [
    "As always some useful imports:"
   ]
  },
  {
   "cell_type": "code",
   "execution_count": 1,
   "metadata": {},
   "outputs": [],
   "source": [
    "import numpy as np \n",
    "# this is the key library for manipulating arrays. Use the online ressources! http://www.numpy.org/\n",
    "\n",
    "import matplotlib.pyplot as plt \n",
    "# used to read images, display and plot http://matplotlib.org/api/pyplot_api.html . \n",
    "#You can also check this simple intro to using ipython notebook with images https://matplotlib.org/users/image_tutorial.html\n",
    "\n",
    "%matplotlib inline \n",
    "# to display directly in the notebook\n",
    "\n",
    "import scipy.ndimage as ndimage\n",
    "# one of several python libraries for image procession\n",
    "\n",
    "import scipy.io as sio\n",
    "# usefull for loading mat files\n",
    "\n",
    "import scipy.optimize as optimize\n",
    "# usefull for optimization\n",
    "\n",
    "plt.rcParams['image.cmap'] = 'gray' \n",
    "# by default, the grayscale images are displayed with the jet colormap: use grayscale instead\n",
    "\n",
    "import gzip\n",
    "#import cPickle # -> for python2\n",
    "import pickle  # -> for python3\n",
    "import os\n",
    "import os.path\n",
    "from six.moves import urllib"
   ]
  },
  {
   "cell_type": "markdown",
   "metadata": {},
   "source": [
    "We will consider a Neural Network as a modular architecture, all layer and loss being a Module. We define the Linear, ReLU layers, necessary to implement a MLP, as well as a simple 2-layer MLP and the least square loss function, LeastSquareCriterion."
   ]
  },
  {
   "cell_type": "code",
   "execution_count": 2,
   "metadata": {},
   "outputs": [],
   "source": [
    "import math\n",
    "import numpy as np\n",
    "\n",
    "class Module(object):\n",
    "    def __init__(self):\n",
    "        self.gradInput=None \n",
    "        self.output=None\n",
    "        \n",
    "    def forward(self, *input):\n",
    "        \"\"\"Defines the computation performed at every call.\n",
    "        Should be overriden by all subclasses.\n",
    "        \"\"\"\n",
    "        raise NotImplementedError\n",
    "        \n",
    "    def backward(self, *input):\n",
    "        \"\"\"Defines the computation performed at every call.\n",
    "        Should be overriden by all subclasses.\n",
    "        \"\"\"\n",
    "        raise NotImplementedError\n",
    "        \n",
    "class LeastSquareCriterion(Module):\n",
    "    \"\"\"\n",
    "    This implementation of the least square loss assumes that the data comes as a 2 dimensionnal array\n",
    "    of size (batch_size,num_classes) and the labels as a vector of size (num_classes) \n",
    "    \"\"\"\n",
    "    def __init__(self, num_classes=10):\n",
    "        super(LeastSquareCriterion, self).__init__()\n",
    "        self.num_classes=num_classes\n",
    "    \n",
    "    def forward(self, x,labels):\n",
    "        target=np.zeros([x.shape[0],self.num_classes])\n",
    "        for i in range(x.shape[0]):\n",
    "            target[i,labels[i]]=1\n",
    "        self.output = np.sum((target-x)**2,axis=0)\n",
    "        return np.sum(self.output)\n",
    "    \n",
    "    def backward(self, x, labels):\n",
    "        self.gradInput=x\n",
    "        for i in range(x.shape[0]):\n",
    "            self.gradInput[i,labels[i]]=x[i,labels[i]]-1\n",
    "        return self.gradInput\n",
    "    \n",
    "\n",
    "class Linear(Module):\n",
    "    \"\"\"\n",
    "    The input is supposed to have two dimensions (batchSize,in_feature)\n",
    "    \"\"\"\n",
    "    def __init__(self, in_features, out_features, bias=True):\n",
    "        super(Linear, self).__init__()\n",
    "        self.in_features = in_features\n",
    "        self.out_features = out_features\n",
    "        self.weight = math.sqrt(1. / (out_features* in_features))*np.random.randn(out_features, in_features)\n",
    "        self.bias = np.zeros(out_features)\n",
    "        self.gradWeight=None\n",
    "        self.gradBias=None\n",
    "        \n",
    "    def forward(self, x):\n",
    "        self.output= np.dot(x,self.weight.transpose())+np.repeat(self.bias.reshape([1,-1]),x.shape[0], axis=0)\n",
    "        return self.output\n",
    "    \n",
    "    def backward(self, x, gradOutput):\n",
    "        self.gradInput=np.dot(gradOutput,self.weight)\n",
    "        self.gradWeight=np.dot(gradOutput.transpose(),x)\n",
    "        self.gradBias=np.sum(gradOutput, axis=0)\n",
    "        return self.gradInput\n",
    "    \n",
    "    def gradientStep(self,lr,lamb):\n",
    "        self.weight=(1-lamb)*self.weight-lr*self.gradWeight\n",
    "        self.bias=self.bias-lr*self.gradBias\n",
    "        \n",
    "\n",
    "class ReLU(Module):\n",
    "    \n",
    "    def __init__(self, bias=True):\n",
    "        super(ReLU, self).__init__()\n",
    "        \n",
    "    def forward(self, x):\n",
    "        self.output=x.clip(0)\n",
    "        return self.output\n",
    "    \n",
    "    def backward(self, x, gradOutput):\n",
    "        self.gradInput=(x>0)*gradOutput\n",
    "        return self.gradInput\n",
    "    \n",
    "        \n",
    "\n",
    "class MLP(Module):\n",
    "\n",
    "    def __init__(self, num_classes=10):\n",
    "        super(MLP, self).__init__()\n",
    "        self.fc1 = Linear(784, 64)\n",
    "        self.relu1 = ReLU()\n",
    "        self.fc2 = Linear(64, 10)\n",
    "    \n",
    "    def forward(self, x):\n",
    "        x = self.fc1.forward(x)\n",
    "        x = self.relu1.forward(x)\n",
    "        x = self.fc2.forward(x)\n",
    "        return x\n",
    "    \n",
    "    def backward(self, x, gradient):\n",
    "        gradient = self.fc2.backward(self.relu1.output,gradient)\n",
    "        gradient = self.relu1.backward(self.fc1.output,gradient)\n",
    "        gradient = self.fc1.backward(x,gradient)\n",
    "        return gradient\n",
    "    \n",
    "    def gradientStep(self,lr,lamb):\n",
    "        self.fc2.gradientStep(lr,lamb)\n",
    "        self.fc1.gradientStep(lr,lamb)\n",
    "        return True"
   ]
  },
  {
   "cell_type": "markdown",
   "metadata": {},
   "source": [
    "## 1. Training a neural network"
   ]
  },
  {
   "cell_type": "markdown",
   "metadata": {},
   "source": [
    "To train a network, we will need data. Download the [MNIST data](http://deeplearning.net/data/mnist/mnist.pkl.gz) (~15Mo). I consists of 28x28 images (loaded as a 784 vector) and the associated label for training, validation and test sets. For this TP, you can focus on the training and validation sets."
   ]
  },
  {
   "cell_type": "code",
   "execution_count": 3,
   "metadata": {},
   "outputs": [
    {
     "name": "stdout",
     "output_type": "stream",
     "text": [
      "5\n"
     ]
    },
    {
     "data": {
      "image/png": "[encoded data removed]",
      "text/plain": [
       "<Figure size 432x288 with 1 Axes>"
      ]
     },
     "metadata": {
      "needs_background": "light"
     },
     "output_type": "display_data"
    }
   ],
   "source": [
    "# Load the dataset\n",
    "f = gzip.open('mnist.pkl.gz', 'rb')\n",
    "train_set, val_set, test_set = pickle.load(f, encoding='latin1') # python 3\n",
    "# train_set, val_set, test_set = cPickle.load(f) # python 2\n",
    "f.close()\n",
    "train_data=train_set[0]\n",
    "train_labels=train_set[1]\n",
    "val_data=val_set[0]\n",
    "val_labels=val_set[1]\n",
    "N_train=train_data.shape[0]\n",
    "N_val=val_data.shape[0]\n",
    "# check data makes sense\n",
    "plt.imshow(train_data[0,:].reshape(28,28))\n",
    "print(train_labels[0])"
   ]
  },
  {
   "cell_type": "code",
   "execution_count": 4,
   "metadata": {},
   "outputs": [],
   "source": [
    "def gen_batchs(data, labels, batch_size):\n",
    "    \"\"\"Créé des batchs de taille batch_size\n",
    "    de data et labels\"\"\"\n",
    "    assert(len(data) == len(labels))\n",
    "    r = np.random.permutation(len(data))\n",
    "    rdata = data[r[:]]\n",
    "    rlabels = labels[r[:]]\n",
    "    for i in range(0, len(data), batch_size):\n",
    "        yield rdata[i:i+batch_size], rlabels[i:i+batch_size]\n",
    "\n",
    "def verify_bool(Y, Y_pred):\n",
    "    \"\"\" Retourne le pourcentage de bonnes\n",
    "    prédictions de Y_pred par rapport\n",
    "    à Y\"\"\"\n",
    "    assert(len(Y) == len(Y_pred))\n",
    "    n = len(Y)\n",
    "    good = 0\n",
    "    for i in range(n):\n",
    "        if Y[i] == Y_pred[i]:\n",
    "            good += 1\n",
    "    return 100*good/n \n",
    "\n",
    "def train(net, loss_net, train_data, val_data, train_labels, val_labels, epochs, batch_size, lr, lamb, Visual = False):\n",
    "    \"\"\"Entraine le RN net avec la loss loss_net\"\"\"\n",
    "    loss_values_train = []\n",
    "    loss_values_val = []\n",
    "    n_train = len(train_data)\n",
    "    n_val = len(val_data)\n",
    "    for k in range(epochs):\n",
    "        print('training, iteration: '+str(k+1)+'/'+str(epochs)+'\\r', sep=' ', end='', flush=True)\n",
    "        batchs = gen_batchs(train_data, train_labels, batch_size) # Création des batchs pour l'epoch k\n",
    "        for batch_data in batchs:\n",
    "            batch = batch_data[0]\n",
    "            batch_labels = batch_data[1]\n",
    "            gradInput = loss_net.backward(net.forward(batch), batch_labels)\n",
    "            net.backward(batch, gradInput)\n",
    "            net.gradientStep(lr, lamb)\n",
    "        if Visual: # Calcul de l'erreur quadratique moyenne pour les données d'entrainement et de validation\n",
    "            loss_values_train.append((1/n_train)*loss_net.forward(net.forward(train_data), train_labels))\n",
    "            loss_values_val.append((1/n_val)*loss_net.forward(net.forward(val_data), val_labels))\n",
    "            \n",
    "    if Visual:\n",
    "        it = range(len(loss_values_train))\n",
    "        plt.figure()\n",
    "        plt.plot(it, loss_values_train, 'r', label = \"Training loss\")\n",
    "        plt.plot(it, loss_values_val, 'b', label = \"Validation loss\")\n",
    "        plt.legend()\n",
    "        plt.title(\"Loss over epochs\")\n",
    "        plt.show()"
   ]
  },
  {
   "cell_type": "code",
   "execution_count": 5,
   "metadata": {
    "scrolled": true
   },
   "outputs": [
    {
     "name": "stdout",
     "output_type": "stream",
     "text": [
      "training, iteration: 5/5\r"
     ]
    },
    {
     "data": {
      "image/png": "[encoded data removed]",
      "text/plain": [
       "<Figure size 432x288 with 1 Axes>"
      ]
     },
     "metadata": {
      "needs_background": "light"
     },
     "output_type": "display_data"
    },
    {
     "name": "stdout",
     "output_type": "stream",
     "text": [
      "95.24 % validation accuracy\n"
     ]
    }
   ],
   "source": [
    "# Paramètres stipulés dans la question 1\n",
    "\n",
    "mlp = MLP()\n",
    "loss_mlp = LeastSquareCriterion()\n",
    "lr = 0.001\n",
    "lamb = 0\n",
    "epochs = 5\n",
    "batch_size= 16\n",
    "train(mlp, loss_mlp, train_data, val_data, train_labels, val_labels, epochs, batch_size, lr, lamb, Visual = True)\n",
    "preds = mlp.forward(val_data)\n",
    "pred_class = [np.argmax(pred) for pred in preds]\n",
    "print(str(verify_bool(val_labels, pred_class)) + \" % validation accuracy\")"
   ]
  },
  {
   "cell_type": "code",
   "execution_count": 6,
   "metadata": {},
   "outputs": [
    {
     "name": "stdout",
     "output_type": "stream",
     "text": [
      "training, iteration: 5/5\r"
     ]
    },
    {
     "data": {
      "image/png": "[encoded data removed]",
      "text/plain": [
       "<Figure size 432x288 with 2 Axes>"
      ]
     },
     "metadata": {
      "needs_background": "light"
     },
     "output_type": "display_data"
    },
    {
     "name": "stdout",
     "output_type": "stream",
     "text": [
      "Best learning rate: 0.000125\n",
      "Best batch size: 256\n"
     ]
    }
   ],
   "source": [
    "# Procédure pour trouver les meilleurs hyperparamètres\n",
    "\n",
    "m = 4\n",
    "LRATE_VALUES = [lr * 2**(n-1) for n in range(-m, m)] # Echantillonage de plusieurs taux d'apprentissage\n",
    "BSIZE_VALUES = [int(batch_size * 2**(n+1)) for n in range(-m, m)] # Echantillonage de plusieurs tailles de batch\n",
    "\n",
    "LOSS_GRID = np.zeros((2*m, 2*m))\n",
    "\n",
    "epochs = 5\n",
    "lamb = 0\n",
    "for i in range(2*m):\n",
    "    for j in range(2*m):\n",
    "        lrv = LRATE_VALUES[i]\n",
    "        bsv = BSIZE_VALUES[j]\n",
    "        mlp = MLP()\n",
    "        loss_mlp = LeastSquareCriterion()\n",
    "        train(mlp, loss_mlp, train_data, val_data, train_labels, val_labels, epochs, bsv, lrv, lamb, Visual = False)\n",
    "        preds = mlp.forward(val_data)\n",
    "        pred_class = [np.argmax(pred) for pred in preds]\n",
    "        LOSS_GRID[i,j] = loss_mlp.forward(mlp.forward(train_data), train_labels)\n",
    "\n",
    "fig, ax = plt.subplots()\n",
    "im = ax.imshow(LOSS_GRID)\n",
    "\n",
    "ax.set_xticks(np.arange(len(LRATE_VALUES)))\n",
    "ax.set_yticks(np.arange(len(BSIZE_VALUES)))\n",
    "\n",
    "ax.set_xticklabels(LRATE_VALUES)\n",
    "ax.set_yticklabels(BSIZE_VALUES)\n",
    "\n",
    "plt.setp(ax.get_xticklabels(), rotation=45, ha=\"right\",\n",
    "         rotation_mode=\"anchor\")\n",
    "\n",
    "\n",
    "ax.set_title(\"loss values\")\n",
    "fig.tight_layout()\n",
    "plt.xlabel(\"learning rate\")\n",
    "plt.ylabel(\"batch size\")\n",
    "ax.figure.colorbar(im, ax=ax)\n",
    "plt.show()\n",
    "\n",
    "j_opt, i_opt = np.unravel_index(np.argmin(LOSS_GRID, axis=None), LOSS_GRID.shape)\n",
    "lr_opt = LRATE_VALUES[i_opt]\n",
    "bs_opt = BSIZE_VALUES[j_opt]\n",
    "\n",
    "print(\"Best learning rate: \" + str(lr_opt))\n",
    "print(\"Best batch size: \" + str(bs_opt))"
   ]
  },
  {
   "cell_type": "code",
   "execution_count": 7,
   "metadata": {},
   "outputs": [
    {
     "name": "stdout",
     "output_type": "stream",
     "text": [
      "Il y a 50890 paramètres dans le réseau\n"
     ]
    }
   ],
   "source": [
    "number = (784+1)*64 + (64+1)*10\n",
    "print(\"Il y a \" + str(number) + \" paramètres dans le réseau\")"
   ]
  },
  {
   "cell_type": "code",
   "execution_count": 8,
   "metadata": {},
   "outputs": [],
   "source": [
    "class MLP_2(Module):\n",
    "    \"\"\"On donne en entrée une liste de tailles\n",
    "    de couches intermédiaires souhaitées.\"\"\"\n",
    "    def __init__(self, layers, num_classes=10):\n",
    "        super(MLP_2, self).__init__()\n",
    "        self.n_layers = len(layers)\n",
    "        print(str(self.n_layers) + \" couche(s) cachée(s)\")\n",
    "        \n",
    "        if self.n_layers == 0:\n",
    "            self.fc = [Linear(784, 10)]\n",
    "        else:\n",
    "            self.fc = [Linear(784, layers[0])] # Première couche\n",
    "            for i in range(self.n_layers-1): # Couches cachées\n",
    "                self.fc.append(Linear(layers[i], layers[i+1]))\n",
    "            self.fc.append(Linear(layers[-1], 10)) # Dernière couche\n",
    "            \n",
    "        self.n_fc = len(self.fc)\n",
    "        self.relu = [ReLU() for _ in range(self.n_fc-1)]\n",
    "        \n",
    "    def forward(self, x):\n",
    "        for i in range(self.n_fc-1):\n",
    "            x = self.fc[i].forward(x)\n",
    "            x = self.relu[i].forward(x)\n",
    "        x = self.fc[-1].forward(x)\n",
    "        return x\n",
    "    \n",
    "    def backward(self, x, gradient):\n",
    "        for i in range(self.n_fc-1, 0, -1):\n",
    "            gradient = self.fc[i].backward(self.relu[i-1].output, gradient)\n",
    "            gradient = self.relu[i-1].backward(self.fc[i-1].output, gradient)\n",
    "        gradient = self.fc[0].backward(x, gradient)\n",
    "        return gradient\n",
    "    \n",
    "    def gradientStep(self,lr,lamb):\n",
    "        for i in range(self.n_fc-1, -1, -1):\n",
    "            self.fc[i].gradientStep(lr,lamb) \n",
    "        return True\n",
    "    \n",
    "    def NbParameters(self):\n",
    "        Nb = sum((self.fc[i].in_features + 1)*self.fc[i].out_features for i in range(self.n_fc))\n",
    "        print(str(Nb) + \" paramètres\")"
   ]
  },
  {
   "cell_type": "code",
   "execution_count": 9,
   "metadata": {
    "scrolled": true
   },
   "outputs": [
    {
     "name": "stdout",
     "output_type": "stream",
     "text": [
      "0 couche(s) cachée(s)\n",
      "7850 paramètres\n",
      "86.29 % validation accuracy\n",
      "1 couche(s) cachée(s)\n",
      "50890 paramètres\n",
      "96.49 % validation accuracy\n",
      "2 couche(s) cachée(s)\n",
      "55050 paramètres\n",
      "96.74 % validation accuracy\n",
      "3 couche(s) cachée(s)\n",
      "59210 paramètres\n",
      "95.38 % validation accuracy\n",
      "4 couche(s) cachée(s)\n",
      "63370 paramètres\n",
      "10.9 % validation accuracy\n",
      "5 couche(s) cachée(s)\n",
      "67530 paramètres\n",
      "10.09 % validation accuracy\n"
     ]
    }
   ],
   "source": [
    "layers = [64, 64, 64, 64, 64]\n",
    "lamb = 0\n",
    "for i in range(6):\n",
    "    mlp = MLP_2(layers[0:i])\n",
    "    mlp.NbParameters()\n",
    "    loss_mlp = LeastSquareCriterion()\n",
    "    lr = 0.001\n",
    "    epochs = 10\n",
    "    batch_size = 32\n",
    "    train(mlp, loss_mlp, train_data, val_data, train_labels, val_labels, epochs, batch_size, lr, lamb, Visual = False)\n",
    "    preds = mlp.forward(val_data)\n",
    "    pred_class = [np.argmax(pred) for pred in preds]\n",
    "    print(str(verify_bool(val_labels, pred_class)) + \" % validation accuracy\")"
   ]
  },
  {
   "cell_type": "markdown",
   "metadata": {},
   "source": [
    "Un grand nombre de couches intermédiaires n'est pas gage de précision. Je n'ai pas trouvé d'hyperparamètres pour entrainer convenablement les RN avec 4 et 5 couches cachées."
   ]
  },
  {
   "cell_type": "code",
   "execution_count": 13,
   "metadata": {},
   "outputs": [
    {
     "name": "stdout",
     "output_type": "stream",
     "text": [
      "4 couche(s) cachée(s)\n",
      "50990 paramètres\n",
      "training, iteration: 20/20\r"
     ]
    },
    {
     "data": {
      "image/png": "[encoded data removed]",
      "text/plain": [
       "<Figure size 432x288 with 1 Axes>"
      ]
     },
     "metadata": {
      "needs_background": "light"
     },
     "output_type": "display_data"
    },
    {
     "name": "stdout",
     "output_type": "stream",
     "text": [
      "97.26 % validation accuracy\n"
     ]
    }
   ],
   "source": [
    "# Un exemple de réseau avec un nombre de paramètres semblables au premier réseau\n",
    "\n",
    "layers = [60, 40, 20, 20]\n",
    "mlp = MLP_2(layers)\n",
    "mlp.NbParameters()\n",
    "loss_mlp = LeastSquareCriterion()\n",
    "lr = 0.01\n",
    "lamb = 0\n",
    "epochs = 20\n",
    "batch_size = 32\n",
    "train(mlp, loss_mlp, train_data, val_data, train_labels, val_labels, epochs, batch_size, lr, lamb, Visual = True)\n",
    "preds = mlp.forward(val_data)\n",
    "pred_class = [np.argmax(pred) for pred in preds]\n",
    "print(str(verify_bool(val_labels, pred_class)) + \" % validation accuracy\")"
   ]
  },
  {
   "cell_type": "markdown",
   "metadata": {},
   "source": [
    "Malgré le fait que ce réseau ait plus de couches que le réseau initial, on observe une précision plus semblable au réseau unitial, qui comporte une unique couche cachée. Cela pourrait s'expliquer en partie par le fait que ces deux réseaux ont un nombre de paramètres semblables."
   ]
  },
  {
   "cell_type": "code",
   "execution_count": 11,
   "metadata": {},
   "outputs": [
    {
     "name": "stdout",
     "output_type": "stream",
     "text": [
      "3 couche(s) cachée(s)\n",
      "59210 paramètres\n",
      "training, iteration: 20/20\r"
     ]
    },
    {
     "data": {
      "image/png": "[encoded data removed]",
      "text/plain": [
       "<Figure size 432x288 with 1 Axes>"
      ]
     },
     "metadata": {
      "needs_background": "light"
     },
     "output_type": "display_data"
    },
    {
     "name": "stdout",
     "output_type": "stream",
     "text": [
      "97.84 % validation accuracy\n",
      "99.626 % training accuracy\n"
     ]
    }
   ],
   "source": [
    "# Surapprentissage sans régularisation\n",
    "\n",
    "layers = [64, 64, 64]\n",
    "mlp = MLP_2(layers)\n",
    "mlp.NbParameters()\n",
    "loss_mlp = LeastSquareCriterion()\n",
    "lr = 0.02\n",
    "lamb = 0\n",
    "epochs = 20\n",
    "batch_size = 32\n",
    "train(mlp, loss_mlp, train_data, val_data, train_labels, val_labels, epochs, batch_size, lr, lamb, Visual = True)\n",
    "preds_val = mlp.forward(val_data)\n",
    "preds_train = mlp.forward(train_data)\n",
    "pred_class_val = [np.argmax(pred) for pred in preds_val]\n",
    "pred_class_train = [np.argmax(pred) for pred in preds_train]\n",
    "\n",
    "print(str(verify_bool(val_labels, pred_class_val)) + \" % validation accuracy\")\n",
    "print(str(verify_bool(train_labels, pred_class_train)) + \" % training accuracy\")"
   ]
  },
  {
   "cell_type": "markdown",
   "metadata": {},
   "source": [
    "On observe ici du surapprentissage. En effet, la validation loss ne suit plus la training loss à partir d'une certaine epoch."
   ]
  },
  {
   "cell_type": "code",
   "execution_count": 12,
   "metadata": {},
   "outputs": [
    {
     "name": "stdout",
     "output_type": "stream",
     "text": [
      "3 couche(s) cachée(s)\n",
      "59210 paramètres\n",
      "training, iteration: 20/20\r"
     ]
    },
    {
     "data": {
      "image/png": "[encoded data removed]",
      "text/plain": [
       "<Figure size 432x288 with 1 Axes>"
      ]
     },
     "metadata": {
      "needs_background": "light"
     },
     "output_type": "display_data"
    },
    {
     "name": "stdout",
     "output_type": "stream",
     "text": [
      "96.26 % validation accuracy\n",
      "96.28 % training accuracy\n"
     ]
    }
   ],
   "source": [
    "# Surapprentissage avec régularisation\n",
    "\n",
    "layers = [64, 64, 64]\n",
    "mlp = MLP_2(layers)\n",
    "mlp.NbParameters()\n",
    "loss_mlp = LeastSquareCriterion()\n",
    "lr = 0.02\n",
    "lamb = 0.001\n",
    "epochs = 20\n",
    "batch_size = 32\n",
    "train(mlp, loss_mlp, train_data, val_data, train_labels, val_labels, epochs, batch_size, lr, lamb, Visual = True)\n",
    "preds_val = mlp.forward(val_data)\n",
    "preds_train = mlp.forward(train_data)\n",
    "pred_class_val = [np.argmax(pred) for pred in preds_val]\n",
    "pred_class_train = [np.argmax(pred) for pred in preds_train]\n",
    "\n",
    "print(str(verify_bool(val_labels, pred_class_val)) + \" % validation accuracy\")\n",
    "print(str(verify_bool(train_labels, pred_class_train)) + \" % training accuracy\")"
   ]
  },
  {
   "cell_type": "markdown",
   "metadata": {},
   "source": [
    "Ici, uniquement le paramètre de régularisation a été modifié. On voit que la précision des prédictions du réseau sur les deux ensembles est quasiment identiques, on a réduit le surapprentissage. Cette réduction du surapprentissage est néanmoins au prix d'une précision moindre."
   ]
  },
  {
   "cell_type": "markdown",
   "metadata": {},
   "source": [
    "0/ Read and understand the code provided above"
   ]
  },
  {
   "cell_type": "markdown",
   "metadata": {},
   "source": [
    "1/ Write a simple loop to train 50 iterations of the MLP defined in 0 with a learning rate 0.001 and batches of size 16."
   ]
  },
  {
   "cell_type": "markdown",
   "metadata": {
    "collapsed": true
   },
   "source": [
    "2/ Evaluate the resulting model on the training and validation data. Check visually the quality of the results."
   ]
  },
  {
   "cell_type": "markdown",
   "metadata": {
    "collapsed": true
   },
   "source": [
    "3/ Plot the training and validation losses and accuracies during the training of question 1. (note: you don't have to test your network at every iteration, you can for example do it every 10 iterations)"
   ]
  },
  {
   "cell_type": "markdown",
   "metadata": {},
   "source": [
    "4/ Design a training procedure that optimize the training loss (decide for a learning rate, batch size...)"
   ]
  },
  {
   "cell_type": "markdown",
   "metadata": {},
   "source": [
    "## 2. Overfitting"
   ]
  },
  {
   "cell_type": "markdown",
   "metadata": {},
   "source": [
    "1/ What's the number of parameters in the network of 1?"
   ]
  },
  {
   "cell_type": "markdown",
   "metadata": {},
   "source": [
    "2/ Design a new network with 3 layer, the middle one having 64 dimensions.What is it number of parameters? What can be said about their comparative performances? Test networks with a growing number of such intermediate layers up to 5 and analyze their performances."
   ]
  },
  {
   "cell_type": "markdown",
   "metadata": {},
   "source": [
    "3/ Add a parameter to vary the size of the intermediate layers. Design networks with varying number of layers as in the previous question, while having the same number of total parameters as the network of 1. What can be said about their comparative performances?"
   ]
  },
  {
   "cell_type": "markdown",
   "metadata": {},
   "source": [
    "4/ Keeping the training procedure fixed, test different size of networks and layers. Show evidence of overfitting."
   ]
  },
  {
   "cell_type": "markdown",
   "metadata": {},
   "source": [
    "4/ Add an optionnal parameter for weight decay (in the gradientStep functions) and show that it can reduce overfitting in some cases (improving the validation performance may be hard, you would have to look at a setting with very little training data to see, you can focus on showing that the gap between training and validation performance decreases)"
   ]
  },
  {
   "cell_type": "markdown",
   "metadata": {},
   "source": [
    "## 3. Optionnal"
   ]
  },
  {
   "cell_type": "markdown",
   "metadata": {},
   "source": [
    "The following questions are optionnal and do not have a specific order! "
   ]
  },
  {
   "cell_type": "markdown",
   "metadata": {},
   "source": [
    "1/ Add some momentum to your training procedure. How does it change the training behavior?"
   ]
  },
  {
   "cell_type": "markdown",
   "metadata": {},
   "source": [
    "2/ Implement and test different loss functions (L1, Cross-Entropy)"
   ]
  },
  {
   "cell_type": "markdown",
   "metadata": {},
   "source": [
    "3/ Implement and test different non-linearities"
   ]
  },
  {
   "cell_type": "markdown",
   "metadata": {},
   "source": [
    "4/ (longer/harder) Implement and test layers that consider the 2D structure of the input data (max pooling, convolution)"
   ]
  }
 ],
 "metadata": {
  "kernelspec": {
   "display_name": "Python 3",
   "language": "python",
   "name": "python3"
  },
  "language_info": {
   "codemirror_mode": {
    "name": "ipython",
    "version": 3
   },
   "file_extension": ".py",
   "mimetype": "text/x-python",
   "name": "python",
   "nbconvert_exporter": "python",
   "pygments_lexer": "ipython3",
   "version": "3.6.9"
  }
 },
 "nbformat": 4,
 "nbformat_minor": 2
}
